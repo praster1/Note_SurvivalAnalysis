{
 "cells": [
  {
   "cell_type": "code",
   "execution_count": 1,
   "metadata": {
    "collapsed": true
   },
   "outputs": [],
   "source": [
    "from dataPiping import *\n",
    "\n",
    "import numpy as np\n",
    "import pandas as pd"
   ]
  },
  {
   "cell_type": "code",
   "execution_count": 42,
   "metadata": {
    "collapsed": false
   },
   "outputs": [],
   "source": [
    "trainPeriod = [\"2015-02-01\", \"2016-02-01\"]\n",
    "unixTrainPeriod = list(map(makeunixtime, trainPeriod))"
   ]
  },
  {
   "cell_type": "code",
   "execution_count": 12,
   "metadata": {
    "collapsed": false
   },
   "outputs": [],
   "source": [
    "''' \n",
    "    Calculate missing startUserTime values if possible (by applying difference between user's other startUserTime and startTime values)\n",
    "'''\n",
    "def _discardNanStartUserTime(df):\n",
    "    nanStartUserTimeCust = df[df.startUserTime.isnull()].customerId.unique()\n",
    "    return df[~df.customerId.isin(nanStartUserTimeCust)]\n",
    "\n",
    "def _calcStartUserTimeNan(g):\n",
    "    isNan = g.startUserTime.isnull()\n",
    "    \n",
    "    if isNan.all():\n",
    "        return g\n",
    "    \n",
    "    if isNan.any():\n",
    "        timeOffset = g[~isNan].iloc[0].startUserTime - g[~isNan].iloc[0].startTime\n",
    "        for i, row in g[isNan].iterrows():\n",
    "            g.set_value(i, 'startUserTime', row.startTime + timeOffset)\n",
    "        \n",
    "    return g\n",
    "\n",
    "def replaceNanStartUserTime(df):\n",
    "    df = df.groupby('customerId').apply(_calcStartUserTimeNan)\n",
    "    return _discardNanStartUserTime(df)"
   ]
  },
  {
   "cell_type": "code",
   "execution_count": 49,
   "metadata": {
    "collapsed": true
   },
   "outputs": [],
   "source": [
    "'''\n",
    "    Aggregate users\n",
    "'''\n",
    "\n",
    "def _aggrUser(user):\n",
    "    nSessions = len(user)\n",
    "    period = unixTrainPeriod[1] - user.startTime.values[0]\n",
    "    frequency = 0\n",
    "    if period > 0:\n",
    "        frequency = nSessions/period\n",
    "    recency = unixTrainPeriod[1] - user.endTime.values[-1]\n",
    "    avgViewOnly = user.viewonly.sum()/nSessions\n",
    "    avgChangeThumbnail = user.changeThumbnail.sum()/nSessions\n",
    "    avgImageZoom = user.imageZoom.sum()/nSessions\n",
    "    avgWatchVideo = user.watchVideo.sum()/nSessions\n",
    "    avgView360 = user.view360.sum()/nSessions\n",
    "    mobile = (user.device == 'mobile').sum()/nSessions\n",
    "    desktop = (user.device == 'desktop').sum()/nSessions\n",
    "    android = (user.device == 'android').sum()/nSessions\n",
    "    ios = (user.device == 'ios').sum()/nSessions\n",
    "    returnTime = user.returnTime.values[-1]\n",
    "    \n",
    "    return pd.DataFrame({\n",
    "        'nSessions': nSessions, \n",
    "        'period': period,\n",
    "        'frequency': frequency,\n",
    "        'recency': recency,\n",
    "        'avgViewOnly': avgViewOnly,\n",
    "        'avgChangeThumbnail': avgChangeThumbnail,\n",
    "        'avgImageZoom': avgImageZoom,\n",
    "        'avgWatchVideo': avgWatchVideo,\n",
    "        'avgView360': avgView360,\n",
    "        'device[mobile]': mobile,\n",
    "        'device[desktop]': desktop,\n",
    "        'device[android]': android,\n",
    "        'device[ios]': ios,\n",
    "        'returnTime': returnTime\n",
    "    },index=[0])\n",
    "\n",
    "def aggrUsers(df):\n",
    "    aggr = df.groupby('customerId').apply(_aggrUser)\n",
    "    return aggr"
   ]
  },
  {
   "cell_type": "code",
   "execution_count": 71,
   "metadata": {
    "collapsed": true
   },
   "outputs": [],
   "source": [
    "def createAggrDataset():\n",
    "    df = pd.read_pickle('../../data/mergedSessionDF.pkl')\n",
    "\n",
    "    df = replaceNanStartUserTime(df)\n",
    "\n",
    "    obs_df = df[(df.startUserTime >= makeunixtime(trainPeriod[0])) & (df.startUserTime < makeunixtime(trainPeriod[1]))]\n",
    "\n",
    "    obs_df_aggr = aggrUsers(obs_df)\n",
    "\n",
    "    obs_df_aggr.reset_index(inplace=True)\n",
    "    del obs_df_aggr['customerId']\n",
    "\n",
    "    del obs_df_aggr['level_1']\n",
    "\n",
    "    obs_df_aggr_nonan = obs_df_aggr[~obs_df_aggr.returnTime.isnull()]\n",
    "\n",
    "    obs_df_aggr_nonan.reset_index(inplace=True)\n",
    "\n",
    "    y = obs_df_aggr_nonan.returnTime\n",
    "    X = obs_df_aggr_nonan.copy()\n",
    "    del X['returnTime']\n",
    "\n",
    "    del X['index']\n",
    "    \n",
    "    X.to_pickle('../../data/aggregate/aggrFebNoNanX.pkl')\n",
    "    y.to_pickle('../../data/aggregate/aggrFebNoNanY.pkl')"
   ]
  },
  {
   "cell_type": "code",
   "execution_count": null,
   "metadata": {
    "collapsed": true
   },
   "outputs": [],
   "source": [
    "def readAggrData():\n",
    "    "
   ]
  }
 ],
 "metadata": {
  "kernelspec": {
   "display_name": "Python 3",
   "language": "python",
   "name": "python3"
  },
  "language_info": {
   "codemirror_mode": {
    "name": "ipython",
    "version": 3
   },
   "file_extension": ".py",
   "mimetype": "text/x-python",
   "name": "python",
   "nbconvert_exporter": "python",
   "pygments_lexer": "ipython3",
   "version": "3.5.2"
  }
 },
 "nbformat": 4,
 "nbformat_minor": 2
}
