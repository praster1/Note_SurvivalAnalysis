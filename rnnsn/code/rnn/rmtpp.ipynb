{
 "cells": [
  {
   "cell_type": "code",
   "execution_count": 1,
   "metadata": {
    "scrolled": true
   },
   "outputs": [
    {
     "name": "stderr",
     "output_type": "stream",
     "text": [
      "C:\\ProgramData\\Anaconda3\\lib\\site-packages\\h5py\\__init__.py:36: FutureWarning: Conversion of the second argument of issubdtype from `float` to `np.floating` is deprecated. In future, it will be treated as `np.float64 == np.dtype(float).type`.\n",
      "  from ._conv import register_converters as _register_converters\n",
      "Using TensorFlow backend.\n"
     ]
    }
   ],
   "source": [
    "import sys\n",
    "sys.path.insert(0, '../utils')\n",
    "from dataPiping import *\n",
    "\n",
    "import numpy as np\n",
    "import pandas as pd\n",
    "from math import exp, fabs, sqrt, log, pi\n",
    "\n",
    "from random import random\n",
    "import datetime\n",
    "\n",
    "from keras.models import Sequential\n",
    "from keras.layers import Dense, Dropout\n",
    "from keras.layers.core import Dense, Activation\n",
    "from keras.layers.recurrent import LSTM\n",
    "from keras.callbacks import Callback, LambdaCallback, TensorBoard, ReduceLROnPlateau, EarlyStopping\n",
    "from keras.optimizers import Adam\n",
    "from keras.wrappers.scikit_learn import KerasRegressor\n",
    "from keras import backend as K\n",
    "from keras.engine.topology import Layer\n",
    "\n",
    "from sklearn.model_selection import cross_val_score\n",
    "from sklearn.model_selection import KFold\n",
    "from sklearn.preprocessing import LabelBinarizer, LabelEncoder, StandardScaler, MinMaxScaler\n",
    "from sklearn.pipeline import Pipeline\n",
    "from sklearn.metrics import mean_squared_error\n",
    "from sklearn_pandas import DataFrameMapper\n"
   ]
  },
  {
   "cell_type": "code",
   "execution_count": 2,
   "metadata": {},
   "outputs": [],
   "source": [
    "seed = 42\n",
    "np.random.seed(seed)"
   ]
  },
  {
   "cell_type": "code",
   "execution_count": 3,
   "metadata": {},
   "outputs": [],
   "source": [
    "class InfluenceLayer(Layer):\n",
    "    \"\"\" RMTPP Influence layer:\n",
    "    Computes fixed terms of RMTPP loss function (negative log-likelihood)\n",
    "    \n",
    "        negative log-likelihood term:\n",
    "\n",
    "        -vt.T*hj - wt(t - tj) - bt - 1/w exp(vt.T*hj + bt) + 1/w exp(vt.T*hj + wt(t-tj) + bt)\n",
    "\n",
    "        vt.T*hj: output of previous layer (past influence)\n",
    "        wt: multiplier on current influence (t-tj)\n",
    "        bt: base intensity\n",
    "        \n",
    "    \n",
    "    \"\"\"\n",
    "\n",
    "    def __init__(self, output_dim, **kwargs):\n",
    "        self.output_dim = output_dim\n",
    "        super(MyLayer, self).__init__(**kwargs)\n",
    "\n",
    "    def build(self, input_shape):\n",
    "        # Create a trainable weight variable for this layer.\n",
    "        self.kernel = self.add_weight(shape=(input_shape[1], self.output_dim),\n",
    "                                      initializer='uniform',\n",
    "                                      trainable=True)\n",
    "        super(MyLayer, self).build(input_shape)  # Be sure to call this somewhere!\n",
    "\n",
    "    def call(self, x):\n",
    "        return K.dot(x, self.kernel)\n",
    "\n",
    "    def compute_output_shape(self, input_shape):\n",
    "        return (input_shape[0], self.output_dim)"
   ]
  },
  {
   "cell_type": "code",
   "execution_count": 4,
   "metadata": {},
   "outputs": [],
   "source": [
    "def _neg_log_likelihood(timings, acc_influence):\n",
    "    \"\"\" Loss function for RMTPP model\n",
    "\n",
    "    :timings: vector (t_j, t_(j+1))\n",
    "    :acc_influence: rnn output = v_t * h_j\n",
    "    \"\"\"\n",
    "#     return K.mean(K.square(timings - acc_influence), axis=-1)\n",
    "    wt = -.01\n",
    "    w = .01\n",
    "    bt = .1\n",
    "    \n",
    "    t = timings[0]\n",
    "    tj = timings[1]\n",
    "    return -acc_influence - wt*(t - tj) \\\n",
    "           - bt - 1/w*K.exp(acc_influence + bt) \\\n",
    "           + 1/w*K.exp(acc_influence + wt*(t - tj) + bt)\n"
   ]
  },
  {
   "cell_type": "code",
   "execution_count": 5,
   "metadata": {},
   "outputs": [],
   "source": [
    "def getModel(lr=100):\n",
    "    in_neurons = 1\n",
    "    out_neurons = 1\n",
    "    input_hidden_neurons = 16\n",
    "    lstm_hidden_neurons = 16\n",
    "    output_hidden_neurons = 1\n",
    "\n",
    "    model = Sequential()\n",
    "\n",
    "    # # input layer (weights W_t)\n",
    "    # model.add(Dense(\n",
    "    #     input_hidden_neurons,\n",
    "    #     input_shape=(None, in_neurons),\n",
    "    #     activation='linear'))\n",
    "\n",
    "    # recurrent layer (weights W_h)\n",
    "    model.add(LSTM(\n",
    "        lstm_hidden_neurons,\n",
    "        return_sequences=False,\n",
    "        input_shape=(None, in_neurons), activation='relu'))\n",
    "\n",
    "    # output layer (weights v_t)\n",
    "    model.add(Dense(\n",
    "        out_neurons,\n",
    "        activation='linear'))\n",
    "\n",
    "    # model.compile(loss='mse', optimizer=Adam(lr=lr))\n",
    "    model.compile(loss=_neg_log_likelihood, optimizer=Adam(lr=lr))\n",
    "\n",
    "    return model"
   ]
  },
  {
   "cell_type": "code",
   "execution_count": 6,
   "metadata": {},
   "outputs": [],
   "source": [
    "model = getModel()"
   ]
  },
  {
   "cell_type": "code",
   "execution_count": 8,
   "metadata": {},
   "outputs": [
    {
     "name": "stdout",
     "output_type": "stream",
     "text": [
      "<keras.engine.sequential.Sequential object at 0x00000243F70FF358>\n"
     ]
    }
   ],
   "source": [
    "print(model)"
   ]
  }
 ],
 "metadata": {
  "anaconda-cloud": {},
  "kernelspec": {
   "display_name": "Python 3",
   "language": "python",
   "name": "python3"
  },
  "language_info": {
   "codemirror_mode": {
    "name": "ipython",
    "version": 3
   },
   "file_extension": ".py",
   "mimetype": "text/x-python",
   "name": "python",
   "nbconvert_exporter": "python",
   "pygments_lexer": "ipython3",
   "version": "3.6.5"
  }
 },
 "nbformat": 4,
 "nbformat_minor": 2
}
