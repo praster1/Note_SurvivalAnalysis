{
 "cells": [
  {
   "cell_type": "markdown",
   "metadata": {},
   "source": [
    "# Setup"
   ]
  },
  {
   "cell_type": "code",
   "execution_count": 70,
   "metadata": {
    "collapsed": false
   },
   "outputs": [
    {
     "name": "stderr",
     "output_type": "stream",
     "text": [
      "/homes/glg113/.local/lib/python3.5/site-packages/IPython/core/interactiveshell.py:2881: FutureWarning: \n",
      "mpl_style had been deprecated and will be removed in a future version.\n",
      "Use `matplotlib.pyplot.style.use` instead.\n",
      "\n",
      "  exec(code_obj, self.user_global_ns, self.user_ns)\n"
     ]
    }
   ],
   "source": [
    "%matplotlib inline\n",
    "\n",
    "import matplotlib\n",
    "import matplotlib.pyplot as plt\n",
    "import matplotlib.mlab as mlab\n",
    "import matplotlib.dates as pltdate\n",
    "import seaborn as sns\n",
    "import datetime\n",
    "import time\n",
    "import numpy as np\n",
    "import pandas as pd\n",
    "from dateutil import parser\n",
    "from sklearn import preprocessing\n",
    "from sklearn.model_selection import train_test_split\n",
    "from sklearn.ensemble import RandomForestClassifier\n",
    "from sklearn.neighbors import KNeighborsClassifier\n",
    "import lifelines as sa\n",
    "from lifelines.utils import concordance_index, k_fold_cross_validation\n",
    "import patsy as pt\n",
    "import math\n",
    "\n",
    "# Set default styles for plotting via pandas, seaborn and matplotlib\n",
    "pd.set_option('display.mpl_style', 'default')\n",
    "pd.set_option('display.notebook_repr_html', True)\n",
    "sns.set(style='darkgrid')\n",
    "#cmap_clrbld = ['#777777','#E69F00','#56B4E9','#D3C511'\n",
    "#               ,'#009E73','#8D42F0','#0072B2','#D55E00','#CC79A7']\n",
    "#plt.rcParams['axes.color_cycle'] = cmap_clrbld\n",
    "plt.rcParams['figure.figsize'] = 15, 6\n",
    "\n",
    "np.random.seed(0)"
   ]
  },
  {
   "cell_type": "code",
   "execution_count": 2,
   "metadata": {
    "collapsed": true
   },
   "outputs": [],
   "source": [
    "def makeunixtime(val):\n",
    "    try:\n",
    "        return int(time.mktime(parser.parse(val).timetuple()))\n",
    "    except (OverflowError, AttributeError, ValueError):\n",
    "        return None\n",
    "\n",
    "\n",
    "def unixtimetostr(val):\n",
    "        return datetime.datetime.fromtimestamp(int(val)).strftime('%Y-%m-%d %H:%M:%S')"
   ]
  },
  {
   "cell_type": "markdown",
   "metadata": {},
   "source": [
    "# Prepare data"
   ]
  },
  {
   "cell_type": "code",
   "execution_count": 3,
   "metadata": {
    "collapsed": false
   },
   "outputs": [],
   "source": [
    "sessionDF = pd.read_pickle('../../data/timedSessionDF.pkl')"
   ]
  },
  {
   "cell_type": "code",
   "execution_count": 4,
   "metadata": {
    "collapsed": true
   },
   "outputs": [],
   "source": [
    "trainPeriod = [\"2015-01-01\", \"2016-01-01\"]\n",
    "testPeriod = [\"2016-01-01\", \"2016-04-01\"]"
   ]
  },
  {
   "cell_type": "code",
   "execution_count": 5,
   "metadata": {
    "collapsed": false,
    "scrolled": false
   },
   "outputs": [],
   "source": [
    "trainPeriodFilter = (sessionDF['startUserTime'] >= makeunixtime(trainPeriod[0])) & (sessionDF['startUserTime'] < makeunixtime(trainPeriod[1]))\n",
    "predictionPeriodFilter = (sessionDF['startUserTime'] >= makeunixtime(testPeriod[0])) & (sessionDF['startUserTime'] < makeunixtime(testPeriod[1]))\n",
    "\n",
    "uniqueCustomerId = sessionDF.customerId.unique()\n",
    "customerIdEnc = preprocessing.LabelEncoder().fit(uniqueCustomerId)"
   ]
  },
  {
   "cell_type": "code",
   "execution_count": 6,
   "metadata": {
    "collapsed": false
   },
   "outputs": [],
   "source": [
    "sessionTrainingPeriodDF = sessionDF[(sessionDF['startUserTime'] > makeunixtime(trainPeriod[0])) & (sessionDF['startUserTime'] < makeunixtime(trainPeriod[1]))]\n",
    "sessionPredictionPeriodDF = sessionDF[(sessionDF['startUserTime'] > makeunixtime(testPeriod[0])) & (sessionDF['startUserTime'] < makeunixtime(testPeriod[1]))]\n",
    "\n",
    "customerTrainingPeriodIdx = customerIdEnc.transform(np.squeeze(np.asarray(sessionTrainingPeriodDF.as_matrix(columns=['customerId']))))\n",
    "\n",
    "bucketSize = 3600*24\n",
    "buckets = np.asarray(range(makeunixtime(trainPeriod[0])+bucketSize//2,makeunixtime(trainPeriod[1])+bucketSize//2,bucketSize))"
   ]
  },
  {
   "cell_type": "markdown",
   "metadata": {},
   "source": [
    "### Clean device column"
   ]
  },
  {
   "cell_type": "code",
   "execution_count": 131,
   "metadata": {
    "collapsed": false
   },
   "outputs": [],
   "source": [
    "sessionDF.loc[sessionDF.device.str.match(\".*[dDtT]esktop.*\") == True,\"device\"] = \"desktop\"\n",
    "sessionDF.loc[sessionDF.device.str.match(\"[mM]obile\") == True,\"device\"] = \"mobile\""
   ]
  },
  {
   "cell_type": "markdown",
   "metadata": {},
   "source": [
    "### Append return time"
   ]
  },
  {
   "cell_type": "code",
   "execution_count": 91,
   "metadata": {
    "collapsed": false
   },
   "outputs": [],
   "source": [
    "sortedSessionDF = sessionDF.sort_values('startTime')\n",
    "\n",
    "def addReturnTime(x):\n",
    "    x = x.sort_values('startTime')\n",
    "    x['returnTime'] = x['startTime'].diff().shift(-1)\n",
    "    return x\n",
    "\n",
    "returnTimeDF = sortedSessionDF.groupby('customerId').apply(addReturnTime)"
   ]
  },
  {
   "cell_type": "code",
   "execution_count": 9,
   "metadata": {
    "collapsed": false
   },
   "outputs": [
    {
     "data": {
      "text/plain": [
       "46670781.0"
      ]
     },
     "execution_count": 9,
     "metadata": {},
     "output_type": "execute_result"
    }
   ],
   "source": [
    "returnTimeDF.returnTime.max()"
   ]
  },
  {
   "cell_type": "markdown",
   "metadata": {},
   "source": [
    "### Create observation window\n",
    "\n",
    "Using all observations from 2015."
   ]
  },
  {
   "cell_type": "code",
   "execution_count": 81,
   "metadata": {
    "collapsed": false
   },
   "outputs": [],
   "source": [
    "trainDF = returnTimeDF[(returnTimeDF['startUserTime'] >= makeunixtime(trainPeriod[0])) & (returnTimeDF['startUserTime'] < makeunixtime(trainPeriod[1]))]"
   ]
  },
  {
   "cell_type": "markdown",
   "metadata": {},
   "source": [
    "#### Visualising return time"
   ]
  },
  {
   "cell_type": "code",
   "execution_count": 86,
   "metadata": {
    "collapsed": false,
    "scrolled": false
   },
   "outputs": [
    {
     "data": {
      "text/plain": [
       "<matplotlib.text.Text at 0x7f280eb24cf8>"
      ]
     },
     "execution_count": 86,
     "metadata": {},
     "output_type": "execute_result"
    },
    {
     "data": {
      "image/png": "[encoded data removed]",
      "text/plain": [
       "<matplotlib.figure.Figure at 0x7f280eae8fd0>"
      ]
     },
     "metadata": {},
     "output_type": "display_data"
    }
   ],
   "source": [
    "logReturnTimeBucketSize = 10 # 5 seconds\n",
    "logMaxReturnTime = int(((trainDF.returnTime.max()//logReturnTimeBucketSize) + 1) * logReturnTimeBucketSize)\n",
    "logReturnTimeBuckets = np.logspace(0, math.log(logMaxReturnTime+logReturnTimeBucketSize, logReturnTimeBucketSize), num=100, endpoint=True, base=logReturnTimeBucketSize) - 1\n",
    "\n",
    "fig, ax = plt.subplots(figsize=(15, 8))\n",
    "#ax.set_color_cycle(['c', 'm', 'y', 'k'])\n",
    "#ax.set_axis_bgcolor((1, 1, 1))\n",
    "\n",
    "ax.hist(trainDF[trainDF.returnTime.notnull()].returnTime, bins=logReturnTimeBuckets, histtype='step', cumulative=False, label='Return Time')\n",
    "\n",
    "ax.grid(True)\n",
    "ax.legend(loc='right')\n",
    "plt.gca().set_xscale(\"log\")\n",
    "plt.gca().set_yscale(\"log\")\n",
    "ax.set_xlabel('Return Time (s)')\n",
    "ax.set_ylabel('number of sessions')\n"
   ]
  },
  {
   "cell_type": "markdown",
   "metadata": {},
   "source": [
    "Weird jumps: check for device types"
   ]
  },
  {
   "cell_type": "code",
   "execution_count": 140,
   "metadata": {
    "collapsed": false
   },
   "outputs": [],
   "source": [
    "def plotReturnTime(df):\n",
    "    logReturnTimeBucketSize = 10 # seconds\n",
    "    logMaxReturnTime = int(((df.returnTime.max()//logReturnTimeBucketSize) + 1) * logReturnTimeBucketSize)\n",
    "    logReturnTimeBuckets = np.logspace(0, math.log(logMaxReturnTime+logReturnTimeBucketSize, logReturnTimeBucketSize), num=100, endpoint=True, base=logReturnTimeBucketSize) - 1\n",
    "\n",
    "    fig, ax = plt.subplots(figsize=(15, 8))\n",
    "    ax.set_color_cycle(['c', 'm', 'y', 'k'])\n",
    "    ax.set_axis_bgcolor((1, 1, 1))\n",
    "\n",
    "    for i, group in df.groupby('device'):\n",
    "        ax.hist(group[group.returnTime.notnull()].returnTime, bins=logReturnTimeBuckets, histtype='step', cumulative=False, label=str(i), normed=True)\n",
    "\n",
    "    ax.grid(True)\n",
    "    ax.legend(loc='right')\n",
    "    plt.gca().set_xscale(\"log\")\n",
    "    plt.gca().set_yscale(\"log\")\n",
    "    ax.set_xlabel('Return Time (s)')\n",
    "    ax.set_ylabel('number of sessions (normalised)')\n"
   ]
  },
  {
   "cell_type": "code",
   "execution_count": 143,
   "metadata": {
    "collapsed": false
   },
   "outputs": [
    {
     "name": "stderr",
     "output_type": "stream",
     "text": [
      "/homes/glg113/.local/lib/python3.5/site-packages/matplotlib/cbook.py:136: MatplotlibDeprecationWarning: The set_color_cycle attribute was deprecated in version 1.5. Use set_prop_cycle instead.\n",
      "  warnings.warn(message, mplDeprecation, stacklevel=1)\n",
      "/homes/glg113/.local/lib/python3.5/site-packages/ipykernel/__main__.py:8: MatplotlibDeprecationWarning: The set_axis_bgcolor function was deprecated in version 2.0. Use set_facecolor instead.\n"
     ]
    },
    {
     "data": {
      "image/png": "[encoded data removed]",
      "text/plain": [
       "<matplotlib.figure.Figure at 0x7f2810a62e10>"
      ]
     },
     "metadata": {},
     "output_type": "display_data"
    }
   ],
   "source": [
    "plotReturnTime(trainDF)"
   ]
  },
  {
   "cell_type": "markdown",
   "metadata": {},
   "source": [
    "Add right censoring"
   ]
  },
  {
   "cell_type": "code",
   "execution_count": 15,
   "metadata": {
    "collapsed": false,
    "scrolled": true
   },
   "outputs": [
    {
     "name": "stderr",
     "output_type": "stream",
     "text": [
      "/homes/glg113/.local/lib/python3.5/site-packages/ipykernel/__main__.py:1: SettingWithCopyWarning: \n",
      "A value is trying to be set on a copy of a slice from a DataFrame.\n",
      "Try using .loc[row_indexer,col_indexer] = value instead\n",
      "\n",
      "See the caveats in the documentation: http://pandas.pydata.org/pandas-docs/stable/indexing.html#indexing-view-versus-copy\n",
      "  if __name__ == '__main__':\n",
      "/homes/glg113/.local/lib/python3.5/site-packages/ipykernel/__main__.py:3: SettingWithCopyWarning: \n",
      "A value is trying to be set on a copy of a slice from a DataFrame.\n",
      "Try using .loc[row_indexer,col_indexer] = value instead\n",
      "\n",
      "See the caveats in the documentation: http://pandas.pydata.org/pandas-docs/stable/indexing.html#indexing-view-versus-copy\n",
      "  app.launch_new_instance()\n"
     ]
    }
   ],
   "source": [
    "trainDF['observed'] = (trainDF['startUserTime'] + trainDF['returnTime']) < makeunixtime(trainPeriod[1])\n",
    "#testDF['observed'] = (testDF['startUserTime'] + testDF['returnTime']) < makeunixtime(testPeriod[1])\n",
    "trainDF['returnTime'] = pd.DataFrame([trainDF['returnTime'], makeunixtime(trainPeriod[1]) - trainDF['startUserTime']]).min()"
   ]
  },
  {
   "cell_type": "markdown",
   "metadata": {},
   "source": [
    "### Bucket days"
   ]
  },
  {
   "cell_type": "code",
   "execution_count": 16,
   "metadata": {
    "collapsed": false
   },
   "outputs": [],
   "source": [
    "bucketSize = 3600*24\n",
    "buckets = np.asarray(range(makeunixtime(trainPeriod[0]), makeunixtime(trainPeriod[1])+bucketSize, bucketSize))"
   ]
  },
  {
   "cell_type": "code",
   "execution_count": 17,
   "metadata": {
    "collapsed": false
   },
   "outputs": [
    {
     "name": "stderr",
     "output_type": "stream",
     "text": [
      "/homes/glg113/.local/lib/python3.5/site-packages/ipykernel/__main__.py:1: SettingWithCopyWarning: \n",
      "A value is trying to be set on a copy of a slice from a DataFrame.\n",
      "Try using .loc[row_indexer,col_indexer] = value instead\n",
      "\n",
      "See the caveats in the documentation: http://pandas.pydata.org/pandas-docs/stable/indexing.html#indexing-view-versus-copy\n",
      "  if __name__ == '__main__':\n"
     ]
    }
   ],
   "source": [
    "trainDF['day'] = pd.cut(trainDF['startUserTime'], buckets, labels=range(len(buckets)-1))"
   ]
  },
  {
   "cell_type": "markdown",
   "metadata": {},
   "source": [
    "### Visualise days"
   ]
  },
  {
   "cell_type": "code",
   "execution_count": 18,
   "metadata": {
    "collapsed": false
   },
   "outputs": [],
   "source": [
    "gp = trainDF.groupby(['device','day']).size().unstack()"
   ]
  },
  {
   "cell_type": "code",
   "execution_count": 322,
   "metadata": {
    "collapsed": false
   },
   "outputs": [
    {
     "data": {
      "image/png": "[encoded data removed]",
      "text/plain": [
       "<matplotlib.figure.Figure at 0x7f308ac072e8>"
      ]
     },
     "metadata": {},
     "output_type": "display_data"
    }
   ],
   "source": [
    "fig, axes = plt.subplots(nrows=1, ncols=1, figsize=[30,10], squeeze=False)\n",
    "ax = sns.heatmap(gp, mask=pd.isnull(gp), ax=axes[0,0],robust=True, cbar=False)"
   ]
  },
  {
   "cell_type": "markdown",
   "metadata": {},
   "source": [
    "### Session length"
   ]
  },
  {
   "cell_type": "code",
   "execution_count": 108,
   "metadata": {
    "collapsed": false
   },
   "outputs": [],
   "source": [
    "lengthBucketSize = 60 # 1 minute\n",
    "maxSessionLength = int(((trainDF.sessionLength.max()//lengthBucketSize) + 1) * lengthBucketSize)\n",
    "sessionLengthBuckets = np.asarray(range(0, maxSessionLength + lengthBucketSize, lengthBucketSize))"
   ]
  },
  {
   "cell_type": "code",
   "execution_count": 109,
   "metadata": {
    "collapsed": false,
    "scrolled": false
   },
   "outputs": [],
   "source": [
    "trainDF['sessionLengthBucket'] = pd.cut(trainDF['sessionLength'], sessionLengthBuckets, labels=range(len(sessionLengthBuckets)-1), include_lowest=True)"
   ]
  },
  {
   "cell_type": "markdown",
   "metadata": {},
   "source": [
    "#### linear view"
   ]
  },
  {
   "cell_type": "code",
   "execution_count": 121,
   "metadata": {
    "collapsed": false,
    "scrolled": true
   },
   "outputs": [],
   "source": [
    "gpSessionLength = trainDF.groupby(['device','sessionLengthBucket']).size().unstack()"
   ]
  },
  {
   "cell_type": "code",
   "execution_count": 122,
   "metadata": {
    "collapsed": false,
    "scrolled": true
   },
   "outputs": [
    {
     "data": {
      "image/png": "[encoded data removed]",
      "text/plain": [
       "<matplotlib.figure.Figure at 0x7f28131cecf8>"
      ]
     },
     "metadata": {},
     "output_type": "display_data"
    }
   ],
   "source": [
    "fig, axes = plt.subplots(nrows=1, ncols=1, figsize=[30,10], squeeze=False)\n",
    "ax = sns.heatmap(gpSessionLength, mask=pd.isnull(gpSessionLength), ax=axes[0,0],robust=True, cbar=False)"
   ]
  },
  {
   "cell_type": "code",
   "execution_count": 116,
   "metadata": {
    "collapsed": true
   },
   "outputs": [],
   "source": [
    "logLengthBucketSize = 5 # 5 seconds\n",
    "logMaxSessionLength = int(((trainDF.sessionLength.max()//logLengthBucketSize) + 1) * logLengthBucketSize)\n",
    "#logSessionLengthBuckets = np.asarray(range(0, maxSessionLength + lengthBucketSize, lengthBucketSize))\n",
    "logSessionLengthBuckets = np.logspace(0, math.log(logMaxSessionLength+logLengthBucketSize, logLengthBucketSize), num=20, endpoint=True, base=logLengthBucketSize) - 1"
   ]
  },
  {
   "cell_type": "code",
   "execution_count": 117,
   "metadata": {
    "collapsed": false,
    "scrolled": true
   },
   "outputs": [],
   "source": [
    "trainDF['logSessionLengthBucket'] = pd.cut(trainDF['sessionLength'], logSessionLengthBuckets, labels=range(len(logSessionLengthBuckets)-1), include_lowest=True)"
   ]
  },
  {
   "cell_type": "code",
   "execution_count": 118,
   "metadata": {
    "collapsed": false
   },
   "outputs": [],
   "source": [
    "gpLogSessionLength = trainDF.groupby(['device','logSessionLengthBucket']).size().unstack()"
   ]
  },
  {
   "cell_type": "code",
   "execution_count": 120,
   "metadata": {
    "collapsed": false,
    "scrolled": false
   },
   "outputs": [
    {
     "data": {
      "image/png": "[encoded data removed]",
      "text/plain": [
       "<matplotlib.figure.Figure at 0x7f280eabc080>"
      ]
     },
     "metadata": {},
     "output_type": "display_data"
    }
   ],
   "source": [
    "fig, axes = plt.subplots(nrows=1, ncols=1, figsize=[30,10], squeeze=False)\n",
    "ax = sns.heatmap(gpLogSessionLength, mask=pd.isnull(gpLogSessionLength), ax=axes[0,0],robust=True, cbar=False)"
   ]
  },
  {
   "cell_type": "code",
   "execution_count": 136,
   "metadata": {
    "collapsed": false
   },
   "outputs": [],
   "source": [
    "def pltSessionLen(df):\n",
    "    logLengthBucketSizePlt = 10 # seconds\n",
    "    logMaxSessionLengthPlt = int(((df.sessionLength.max()//logLengthBucketSizePlt) + 1) * logLengthBucketSizePlt)\n",
    "    logSessionLengthBucketsPlt = np.logspace(0, math.log(logMaxSessionLengthPlt+logLengthBucketSizePlt, logLengthBucketSizePlt), num=100, endpoint=True, base=logLengthBucketSizePlt) - 1\n",
    "\n",
    "    bins=logSessionLengthBucketsPlt\n",
    "\n",
    "    #cleanDF.groupby('device').apply(lambda x: x.sessionLength.sort_values().plot(logy=True))\n",
    "\n",
    "    fig, ax = plt.subplots(figsize=(15, 8))\n",
    "    ax.set_color_cycle(['c', 'm', 'y', 'k'])\n",
    "    ax.set_axis_bgcolor((1, 1, 1))\n",
    "\n",
    "    for i, group in df.groupby('device'):\n",
    "        ax.hist(group.sessionLength, bins=logSessionLengthBucketsPlt, histtype='step', cumulative=False, label=str(i))\n",
    "    #    group.sessionLength.sort_values().plot(logy=True,title=str(i))\n",
    "    # plot the cumulative histogram\n",
    "    #ax.hist(sessionsLengthsSorted, bins=bins, histtype='step',\n",
    "    #                           cumulative=False, label='Empirical')\n",
    "\n",
    "    # tidy up the figure\n",
    "    ax.grid(True)\n",
    "    ax.legend(loc='right')\n",
    "    plt.gca().set_xscale(\"log\")\n",
    "    plt.gca().set_yscale(\"log\")\n",
    "    ax.set_xlabel('Session length (s)')\n",
    "    ax.set_ylabel('number of sessions')\n"
   ]
  },
  {
   "cell_type": "code",
   "execution_count": 137,
   "metadata": {
    "collapsed": false,
    "scrolled": false
   },
   "outputs": [
    {
     "name": "stderr",
     "output_type": "stream",
     "text": [
      "/homes/glg113/.local/lib/python3.5/site-packages/matplotlib/cbook.py:136: MatplotlibDeprecationWarning: The set_color_cycle attribute was deprecated in version 1.5. Use set_prop_cycle instead.\n",
      "  warnings.warn(message, mplDeprecation, stacklevel=1)\n",
      "/homes/glg113/.local/lib/python3.5/site-packages/ipykernel/__main__.py:12: MatplotlibDeprecationWarning: The set_axis_bgcolor function was deprecated in version 2.0. Use set_facecolor instead.\n"
     ]
    },
    {
     "data": {
      "image/png": "[encoded data removed]",
      "text/plain": [
       "<matplotlib.figure.Figure at 0x7f27dc646860>"
      ]
     },
     "metadata": {},
     "output_type": "display_data"
    }
   ],
   "source": [
    "pltSessionLen(trainDF)"
   ]
  },
  {
   "cell_type": "code",
   "execution_count": 124,
   "metadata": {
    "collapsed": false
   },
   "outputs": [
    {
     "data": {
      "text/plain": [
       "0    1438.9833\n",
       "dtype: float64"
      ]
     },
     "execution_count": 124,
     "metadata": {},
     "output_type": "execute_result"
    }
   ],
   "source": [
    "trainDF[(trainDF.device=='desktop') & (trainDF.sessionLength>600)].sessionLength.mode()"
   ]
  },
  {
   "cell_type": "markdown",
   "metadata": {},
   "source": [
    "#### Conclusions\n",
    "- High ration of <.75s sessions (**bucket 0**)\n",
    "- High ratio of bounces: <2.1 sec sessions (**bucket 1**)\n",
    "- Increase in sessions longer than 15 min: **bucket 11**\n",
    "\n",
    "Need to eliminate sessions below 3s and truncate session length to 25min"
   ]
  },
  {
   "cell_type": "markdown",
   "metadata": {},
   "source": [
    "### Eliminate bouces"
   ]
  },
  {
   "cell_type": "code",
   "execution_count": 125,
   "metadata": {
    "collapsed": false,
    "scrolled": true
   },
   "outputs": [
    {
     "name": "stderr",
     "output_type": "stream",
     "text": [
      "/homes/glg113/.local/lib/python3.5/site-packages/pandas/core/generic.py:2773: SettingWithCopyWarning: \n",
      "A value is trying to be set on a copy of a slice from a DataFrame.\n",
      "Try using .loc[row_indexer,col_indexer] = value instead\n",
      "\n",
      "See the caveats in the documentation: http://pandas.pydata.org/pandas-docs/stable/indexing.html#indexing-view-versus-copy\n",
      "  self[name] = value\n"
     ]
    }
   ],
   "source": [
    "cleanDF = trainDF[(trainDF['sessionLength'] >= 3)]\n",
    "cleanDF.sessionLength = cleanDF.sessionLength.clip(0,25*60)"
   ]
  },
  {
   "cell_type": "markdown",
   "metadata": {
    "collapsed": false
   },
   "source": [
    "#### Need to re-evaluate return time"
   ]
  },
  {
   "cell_type": "code",
   "execution_count": 132,
   "metadata": {
    "collapsed": true
   },
   "outputs": [],
   "source": [
    "sortedSessionDF = sessionDF.sort_values('startTime')\n",
    "\n",
    "def addReturnTime(x):\n",
    "    x = x.sort_values('startTime')\n",
    "    x['returnTime'] = x['startTime'].diff().shift(-1)\n",
    "    return x\n",
    "\n",
    "cleanReturnTimeDF = sortedSessionDF[sortedSessionDF['sessionLength'] >= 3].groupby('customerId').apply(addReturnTime)"
   ]
  },
  {
   "cell_type": "code",
   "execution_count": 134,
   "metadata": {
    "collapsed": false
   },
   "outputs": [],
   "source": [
    "cleanDF = cleanReturnTimeDF[(cleanReturnTimeDF['startUserTime'] >= makeunixtime(trainPeriod[0])) & (cleanReturnTimeDF['startUserTime'] < makeunixtime(trainPeriod[1]))]"
   ]
  },
  {
   "cell_type": "code",
   "execution_count": 139,
   "metadata": {
    "collapsed": false,
    "scrolled": false
   },
   "outputs": [
    {
     "name": "stderr",
     "output_type": "stream",
     "text": [
      "/homes/glg113/.local/lib/python3.5/site-packages/matplotlib/cbook.py:136: MatplotlibDeprecationWarning: The set_color_cycle attribute was deprecated in version 1.5. Use set_prop_cycle instead.\n",
      "  warnings.warn(message, mplDeprecation, stacklevel=1)\n",
      "/homes/glg113/.local/lib/python3.5/site-packages/ipykernel/__main__.py:12: MatplotlibDeprecationWarning: The set_axis_bgcolor function was deprecated in version 2.0. Use set_facecolor instead.\n"
     ]
    },
    {
     "data": {
      "image/png": "[encoded data removed]",
      "text/plain": [
       "<matplotlib.figure.Figure at 0x7f2816180b70>"
      ]
     },
     "metadata": {},
     "output_type": "display_data"
    }
   ],
   "source": [
    "pltSessionLen(cleanDF)"
   ]
  },
  {
   "cell_type": "code",
   "execution_count": 144,
   "metadata": {
    "collapsed": false
   },
   "outputs": [
    {
     "name": "stderr",
     "output_type": "stream",
     "text": [
      "/homes/glg113/.local/lib/python3.5/site-packages/matplotlib/cbook.py:136: MatplotlibDeprecationWarning: The set_color_cycle attribute was deprecated in version 1.5. Use set_prop_cycle instead.\n",
      "  warnings.warn(message, mplDeprecation, stacklevel=1)\n",
      "/homes/glg113/.local/lib/python3.5/site-packages/ipykernel/__main__.py:8: MatplotlibDeprecationWarning: The set_axis_bgcolor function was deprecated in version 2.0. Use set_facecolor instead.\n"
     ]
    },
    {
     "data": {
      "image/png": "[encoded data removed]",
      "text/plain": [
       "<matplotlib.figure.Figure at 0x7f27dd3a86d8>"
      ]
     },
     "metadata": {},
     "output_type": "display_data"
    }
   ],
   "source": [
    "plotReturnTime(cleanDF)"
   ]
  },
  {
   "cell_type": "code",
   "execution_count": 147,
   "metadata": {
    "collapsed": false
   },
   "outputs": [
    {
     "data": {
      "text/plain": [
       "device\n",
       "Android    12.583333\n",
       "desktop    14.550000\n",
       "iOS        11.966666\n",
       "mobile     10.816667\n",
       "Name: sessionLength, dtype: float64"
      ]
     },
     "execution_count": 147,
     "metadata": {},
     "output_type": "execute_result"
    }
   ],
   "source": [
    "cleanDF.groupby(['device']).sessionLength.apply(lambda x: x.median())"
   ]
  },
  {
   "cell_type": "code",
   "execution_count": 150,
   "metadata": {
    "collapsed": false,
    "scrolled": false
   },
   "outputs": [
    {
     "data": {
      "text/plain": [
       "device\n",
       "Android    155750.0\n",
       "desktop    246606.0\n",
       "iOS        163396.0\n",
       "mobile     342908.0\n",
       "Name: returnTime, dtype: float64"
      ]
     },
     "execution_count": 150,
     "metadata": {},
     "output_type": "execute_result"
    }
   ],
   "source": [
    "cleanDF.groupby(['device']).returnTime.apply(lambda x: x.median())"
   ]
  },
  {
   "cell_type": "code",
   "execution_count": 151,
   "metadata": {
    "collapsed": false
   },
   "outputs": [
    {
     "data": {
      "text/plain": [
       "numberdivisions     1.431081\n",
       "avgPrice           30.548952\n",
       "viewonly           17.862417\n",
       "changeThumbnail    13.008210\n",
       "imageZoom           1.214689\n",
       "watchVideo          0.727749\n",
       "view360             0.025199\n",
       "sizeGuide           0.000000\n",
       "dtype: float64"
      ]
     },
     "execution_count": 151,
     "metadata": {},
     "output_type": "execute_result"
    }
   ],
   "source": [
    "cleanDF[['numberdivisions', 'avgPrice', 'viewonly', 'changeThumbnail', 'imageZoom', 'watchVideo', 'view360', 'sizeGuide']].mean()"
   ]
  },
  {
   "cell_type": "markdown",
   "metadata": {},
   "source": [
    "### No observations for sizeGuide\n",
    "Remove field"
   ]
  },
  {
   "cell_type": "code",
   "execution_count": 152,
   "metadata": {
    "collapsed": true
   },
   "outputs": [],
   "source": [
    "del cleanDF['sizeGuide']"
   ]
  },
  {
   "cell_type": "markdown",
   "metadata": {},
   "source": [
    "### Censoring"
   ]
  },
  {
   "cell_type": "code",
   "execution_count": 154,
   "metadata": {
    "collapsed": true
   },
   "outputs": [],
   "source": [
    "predDF = cleanDF.copy()"
   ]
  },
  {
   "cell_type": "code",
   "execution_count": 155,
   "metadata": {
    "collapsed": true
   },
   "outputs": [],
   "source": [
    "predDF['observed'] = (predDF['startUserTime'] + predDF['returnTime']) < makeunixtime(trainPeriod[1])\n",
    "predDF['returnTime'] = pd.DataFrame([predDF['returnTime'], makeunixtime(trainPeriod[1]) - predDF['startUserTime']]).min()"
   ]
  },
  {
   "cell_type": "code",
   "execution_count": 159,
   "metadata": {
    "collapsed": false
   },
   "outputs": [],
   "source": [
    "predDF = predDF.reset_index(drop=True) # flatten"
   ]
  },
  {
   "cell_type": "code",
   "execution_count": 160,
   "metadata": {
    "collapsed": false
   },
   "outputs": [
    {
     "data": {
      "text/html": [
       "<div>\n",
       "<table border=\"1\" class=\"dataframe\">\n",
       "  <thead>\n",
       "    <tr style=\"text-align: right;\">\n",
       "      <th></th>\n",
       "      <th>customerId</th>\n",
       "      <th>sessionId</th>\n",
       "      <th>startTime</th>\n",
       "      <th>startUserTime</th>\n",
       "      <th>sessionLength</th>\n",
       "      <th>numberdivisions</th>\n",
       "      <th>avgPrice</th>\n",
       "      <th>viewonly</th>\n",
       "      <th>changeThumbnail</th>\n",
       "      <th>imageZoom</th>\n",
       "      <th>watchVideo</th>\n",
       "      <th>view360</th>\n",
       "      <th>device</th>\n",
       "      <th>returnTime</th>\n",
       "      <th>observed</th>\n",
       "    </tr>\n",
       "  </thead>\n",
       "  <tbody>\n",
       "    <tr>\n",
       "      <th>0</th>\n",
       "      <td>4600</td>\n",
       "      <td>1257495808-1341698085-1.428265218E9</td>\n",
       "      <td>1428265218</td>\n",
       "      <td>1.428265e+09</td>\n",
       "      <td>25.333334</td>\n",
       "      <td>1</td>\n",
       "      <td>21.900000</td>\n",
       "      <td>16</td>\n",
       "      <td>0</td>\n",
       "      <td>0</td>\n",
       "      <td>0</td>\n",
       "      <td>0</td>\n",
       "      <td>iOS</td>\n",
       "      <td>18548596.0</td>\n",
       "      <td>True</td>\n",
       "    </tr>\n",
       "    <tr>\n",
       "      <th>1</th>\n",
       "      <td>4600</td>\n",
       "      <td>5371143799284085389-3809498348446746724-1.4468...</td>\n",
       "      <td>1446813814</td>\n",
       "      <td>1.446814e+09</td>\n",
       "      <td>23.250000</td>\n",
       "      <td>1</td>\n",
       "      <td>20.372500</td>\n",
       "      <td>4</td>\n",
       "      <td>6</td>\n",
       "      <td>0</td>\n",
       "      <td>1</td>\n",
       "      <td>0</td>\n",
       "      <td>desktop</td>\n",
       "      <td>1828703.0</td>\n",
       "      <td>True</td>\n",
       "    </tr>\n",
       "    <tr>\n",
       "      <th>2</th>\n",
       "      <td>4600</td>\n",
       "      <td>5371143799284085389-3809498348446746724-1.4486...</td>\n",
       "      <td>1448642517</td>\n",
       "      <td>1.448643e+09</td>\n",
       "      <td>32.733334</td>\n",
       "      <td>2</td>\n",
       "      <td>78.333336</td>\n",
       "      <td>10</td>\n",
       "      <td>0</td>\n",
       "      <td>0</td>\n",
       "      <td>0</td>\n",
       "      <td>0</td>\n",
       "      <td>desktop</td>\n",
       "      <td>15030.0</td>\n",
       "      <td>True</td>\n",
       "    </tr>\n",
       "    <tr>\n",
       "      <th>3</th>\n",
       "      <td>4600</td>\n",
       "      <td>5371143799284085389-3809498348446746724-1.4486...</td>\n",
       "      <td>1448657547</td>\n",
       "      <td>1.448658e+09</td>\n",
       "      <td>59.233334</td>\n",
       "      <td>1</td>\n",
       "      <td>32.380478</td>\n",
       "      <td>50</td>\n",
       "      <td>114</td>\n",
       "      <td>18</td>\n",
       "      <td>0</td>\n",
       "      <td>0</td>\n",
       "      <td>desktop</td>\n",
       "      <td>40531.0</td>\n",
       "      <td>True</td>\n",
       "    </tr>\n",
       "    <tr>\n",
       "      <th>4</th>\n",
       "      <td>4600</td>\n",
       "      <td>5371143799284085389-3809498348446746724-1.4486...</td>\n",
       "      <td>1448698078</td>\n",
       "      <td>1.448698e+09</td>\n",
       "      <td>27.083334</td>\n",
       "      <td>1</td>\n",
       "      <td>24.248236</td>\n",
       "      <td>35</td>\n",
       "      <td>61</td>\n",
       "      <td>6</td>\n",
       "      <td>0</td>\n",
       "      <td>0</td>\n",
       "      <td>desktop</td>\n",
       "      <td>27119.0</td>\n",
       "      <td>True</td>\n",
       "    </tr>\n",
       "    <tr>\n",
       "      <th>5</th>\n",
       "      <td>4600</td>\n",
       "      <td>5371143799284085389-3809498348446746724-1.4487...</td>\n",
       "      <td>1448725197</td>\n",
       "      <td>1.448725e+09</td>\n",
       "      <td>40.750000</td>\n",
       "      <td>1</td>\n",
       "      <td>23.924000</td>\n",
       "      <td>28</td>\n",
       "      <td>45</td>\n",
       "      <td>4</td>\n",
       "      <td>2</td>\n",
       "      <td>0</td>\n",
       "      <td>desktop</td>\n",
       "      <td>102099.0</td>\n",
       "      <td>True</td>\n",
       "    </tr>\n",
       "    <tr>\n",
       "      <th>6</th>\n",
       "      <td>4600</td>\n",
       "      <td>5371143799284085389-3809498348446746724-1.4488...</td>\n",
       "      <td>1448827296</td>\n",
       "      <td>1.448827e+09</td>\n",
       "      <td>52.200000</td>\n",
       "      <td>2</td>\n",
       "      <td>26.824000</td>\n",
       "      <td>26</td>\n",
       "      <td>23</td>\n",
       "      <td>5</td>\n",
       "      <td>1</td>\n",
       "      <td>0</td>\n",
       "      <td>desktop</td>\n",
       "      <td>6248.0</td>\n",
       "      <td>True</td>\n",
       "    </tr>\n",
       "    <tr>\n",
       "      <th>7</th>\n",
       "      <td>4600</td>\n",
       "      <td>5371143799284085389-3809498348446746724-1.4488...</td>\n",
       "      <td>1448833544</td>\n",
       "      <td>1.448834e+09</td>\n",
       "      <td>5.733333</td>\n",
       "      <td>1</td>\n",
       "      <td>17.500000</td>\n",
       "      <td>4</td>\n",
       "      <td>6</td>\n",
       "      <td>0</td>\n",
       "      <td>0</td>\n",
       "      <td>0</td>\n",
       "      <td>desktop</td>\n",
       "      <td>2772856.0</td>\n",
       "      <td>False</td>\n",
       "    </tr>\n",
       "    <tr>\n",
       "      <th>8</th>\n",
       "      <td>4800</td>\n",
       "      <td>5254901231698233801-2901597573009043271-1.4373...</td>\n",
       "      <td>1437319952</td>\n",
       "      <td>1.437324e+09</td>\n",
       "      <td>4.683333</td>\n",
       "      <td>1</td>\n",
       "      <td>22.750000</td>\n",
       "      <td>6</td>\n",
       "      <td>8</td>\n",
       "      <td>0</td>\n",
       "      <td>0</td>\n",
       "      <td>0</td>\n",
       "      <td>mobile</td>\n",
       "      <td>154360.0</td>\n",
       "      <td>True</td>\n",
       "    </tr>\n",
       "    <tr>\n",
       "      <th>9</th>\n",
       "      <td>4800</td>\n",
       "      <td>5254901231698233801-2901597573009043271-1.4374...</td>\n",
       "      <td>1437474312</td>\n",
       "      <td>1.437478e+09</td>\n",
       "      <td>5.183333</td>\n",
       "      <td>1</td>\n",
       "      <td>39.000000</td>\n",
       "      <td>5</td>\n",
       "      <td>8</td>\n",
       "      <td>0</td>\n",
       "      <td>1</td>\n",
       "      <td>0</td>\n",
       "      <td>mobile</td>\n",
       "      <td>14128488.0</td>\n",
       "      <td>False</td>\n",
       "    </tr>\n",
       "    <tr>\n",
       "      <th>10</th>\n",
       "      <td>5000</td>\n",
       "      <td>3036086059922432306-6917530166344383656-1.4215...</td>\n",
       "      <td>1421513817</td>\n",
       "      <td>1.421514e+09</td>\n",
       "      <td>13.566667</td>\n",
       "      <td>1</td>\n",
       "      <td>19.750000</td>\n",
       "      <td>3</td>\n",
       "      <td>0</td>\n",
       "      <td>0</td>\n",
       "      <td>0</td>\n",
       "      <td>0</td>\n",
       "      <td>desktop</td>\n",
       "      <td>12006910.0</td>\n",
       "      <td>True</td>\n",
       "    </tr>\n",
       "    <tr>\n",
       "      <th>11</th>\n",
       "      <td>5000</td>\n",
       "      <td>1962822102-2052657968-1.433520727E9</td>\n",
       "      <td>1433520727</td>\n",
       "      <td>1.433521e+09</td>\n",
       "      <td>5.666666</td>\n",
       "      <td>2</td>\n",
       "      <td>8.727273</td>\n",
       "      <td>12</td>\n",
       "      <td>0</td>\n",
       "      <td>0</td>\n",
       "      <td>0</td>\n",
       "      <td>0</td>\n",
       "      <td>iOS</td>\n",
       "      <td>18085673.0</td>\n",
       "      <td>False</td>\n",
       "    </tr>\n",
       "    <tr>\n",
       "      <th>12</th>\n",
       "      <td>6600</td>\n",
       "      <td>2656931474588539840-7826403508261592679-1.4355...</td>\n",
       "      <td>1435584426</td>\n",
       "      <td>1.435588e+09</td>\n",
       "      <td>10.083333</td>\n",
       "      <td>1</td>\n",
       "      <td>11.250000</td>\n",
       "      <td>12</td>\n",
       "      <td>43</td>\n",
       "      <td>0</td>\n",
       "      <td>0</td>\n",
       "      <td>0</td>\n",
       "      <td>mobile</td>\n",
       "      <td>6496604.0</td>\n",
       "      <td>True</td>\n",
       "    </tr>\n",
       "    <tr>\n",
       "      <th>13</th>\n",
       "      <td>6600</td>\n",
       "      <td>3394236519065805772-4839741357857331042-1.4420...</td>\n",
       "      <td>1442081030</td>\n",
       "      <td>1.442085e+09</td>\n",
       "      <td>22.883333</td>\n",
       "      <td>2</td>\n",
       "      <td>7.113846</td>\n",
       "      <td>15</td>\n",
       "      <td>48</td>\n",
       "      <td>0</td>\n",
       "      <td>0</td>\n",
       "      <td>0</td>\n",
       "      <td>mobile</td>\n",
       "      <td>9521770.0</td>\n",
       "      <td>False</td>\n",
       "    </tr>\n",
       "    <tr>\n",
       "      <th>14</th>\n",
       "      <td>9800</td>\n",
       "      <td>3016151690772547192-4611687160351849230-1.4420...</td>\n",
       "      <td>1442034428</td>\n",
       "      <td>1.442038e+09</td>\n",
       "      <td>8.733334</td>\n",
       "      <td>1</td>\n",
       "      <td>37.299000</td>\n",
       "      <td>10</td>\n",
       "      <td>49</td>\n",
       "      <td>0</td>\n",
       "      <td>0</td>\n",
       "      <td>0</td>\n",
       "      <td>mobile</td>\n",
       "      <td>4982565.0</td>\n",
       "      <td>True</td>\n",
       "    </tr>\n",
       "    <tr>\n",
       "      <th>15</th>\n",
       "      <td>9800</td>\n",
       "      <td>3016151690772547192-4611687160351849230-1.4470...</td>\n",
       "      <td>1447016993</td>\n",
       "      <td>1.447017e+09</td>\n",
       "      <td>11.283334</td>\n",
       "      <td>2</td>\n",
       "      <td>29.416666</td>\n",
       "      <td>7</td>\n",
       "      <td>16</td>\n",
       "      <td>0</td>\n",
       "      <td>0</td>\n",
       "      <td>0</td>\n",
       "      <td>mobile</td>\n",
       "      <td>1037.0</td>\n",
       "      <td>True</td>\n",
       "    </tr>\n",
       "    <tr>\n",
       "      <th>16</th>\n",
       "      <td>9800</td>\n",
       "      <td>7010479965667294992-5288269321925196693-1.4470...</td>\n",
       "      <td>1447018030</td>\n",
       "      <td>1.447018e+09</td>\n",
       "      <td>17.783333</td>\n",
       "      <td>2</td>\n",
       "      <td>84.293526</td>\n",
       "      <td>26</td>\n",
       "      <td>0</td>\n",
       "      <td>0</td>\n",
       "      <td>0</td>\n",
       "      <td>0</td>\n",
       "      <td>iOS</td>\n",
       "      <td>1122584.0</td>\n",
       "      <td>True</td>\n",
       "    </tr>\n",
       "    <tr>\n",
       "      <th>17</th>\n",
       "      <td>9800</td>\n",
       "      <td>3016151690772547192-4611687160351849230-1.4481...</td>\n",
       "      <td>1448140614</td>\n",
       "      <td>1.448141e+09</td>\n",
       "      <td>13.300000</td>\n",
       "      <td>2</td>\n",
       "      <td>54.277780</td>\n",
       "      <td>9</td>\n",
       "      <td>29</td>\n",
       "      <td>0</td>\n",
       "      <td>0</td>\n",
       "      <td>0</td>\n",
       "      <td>mobile</td>\n",
       "      <td>2155.0</td>\n",
       "      <td>True</td>\n",
       "    </tr>\n",
       "    <tr>\n",
       "      <th>18</th>\n",
       "      <td>9800</td>\n",
       "      <td>7010479965667294992-5288269321925196693-1.4481...</td>\n",
       "      <td>1448142769</td>\n",
       "      <td>1.448143e+09</td>\n",
       "      <td>6.016667</td>\n",
       "      <td>1</td>\n",
       "      <td>71.166664</td>\n",
       "      <td>12</td>\n",
       "      <td>0</td>\n",
       "      <td>0</td>\n",
       "      <td>0</td>\n",
       "      <td>0</td>\n",
       "      <td>iOS</td>\n",
       "      <td>1814381.0</td>\n",
       "      <td>True</td>\n",
       "    </tr>\n",
       "    <tr>\n",
       "      <th>19</th>\n",
       "      <td>9800</td>\n",
       "      <td>7010479965667294992-5288269321925196693-1.4499...</td>\n",
       "      <td>1449957150</td>\n",
       "      <td>1.449957e+09</td>\n",
       "      <td>12.966666</td>\n",
       "      <td>1</td>\n",
       "      <td>44.583332</td>\n",
       "      <td>6</td>\n",
       "      <td>0</td>\n",
       "      <td>0</td>\n",
       "      <td>0</td>\n",
       "      <td>0</td>\n",
       "      <td>iOS</td>\n",
       "      <td>1467954.0</td>\n",
       "      <td>True</td>\n",
       "    </tr>\n",
       "    <tr>\n",
       "      <th>20</th>\n",
       "      <td>9800</td>\n",
       "      <td>7010479965667294992-5288269321925196693-1.4514...</td>\n",
       "      <td>1451425104</td>\n",
       "      <td>1.451425e+09</td>\n",
       "      <td>9.900000</td>\n",
       "      <td>1</td>\n",
       "      <td>73.444440</td>\n",
       "      <td>13</td>\n",
       "      <td>0</td>\n",
       "      <td>0</td>\n",
       "      <td>0</td>\n",
       "      <td>0</td>\n",
       "      <td>iOS</td>\n",
       "      <td>181296.0</td>\n",
       "      <td>False</td>\n",
       "    </tr>\n",
       "    <tr>\n",
       "      <th>21</th>\n",
       "      <td>14600</td>\n",
       "      <td>2999283331271571617-4611687123308097518-1.4274...</td>\n",
       "      <td>1427408493</td>\n",
       "      <td>1.427408e+09</td>\n",
       "      <td>8.266666</td>\n",
       "      <td>1</td>\n",
       "      <td>46.785713</td>\n",
       "      <td>7</td>\n",
       "      <td>4</td>\n",
       "      <td>0</td>\n",
       "      <td>0</td>\n",
       "      <td>0</td>\n",
       "      <td>desktop</td>\n",
       "      <td>21574327.0</td>\n",
       "      <td>True</td>\n",
       "    </tr>\n",
       "    <tr>\n",
       "      <th>22</th>\n",
       "      <td>14600</td>\n",
       "      <td>3560869624064684401-8001200099093909566-1.4489...</td>\n",
       "      <td>1448982820</td>\n",
       "      <td>1.448983e+09</td>\n",
       "      <td>11.350000</td>\n",
       "      <td>1</td>\n",
       "      <td>34.285000</td>\n",
       "      <td>20</td>\n",
       "      <td>0</td>\n",
       "      <td>0</td>\n",
       "      <td>0</td>\n",
       "      <td>0</td>\n",
       "      <td>iOS</td>\n",
       "      <td>2623580.0</td>\n",
       "      <td>False</td>\n",
       "    </tr>\n",
       "    <tr>\n",
       "      <th>23</th>\n",
       "      <td>15600</td>\n",
       "      <td>3004482724190820191-6917530135205858963-1.4205...</td>\n",
       "      <td>1420586052</td>\n",
       "      <td>1.420586e+09</td>\n",
       "      <td>3.066667</td>\n",
       "      <td>1</td>\n",
       "      <td>28.666666</td>\n",
       "      <td>3</td>\n",
       "      <td>6</td>\n",
       "      <td>0</td>\n",
       "      <td>1</td>\n",
       "      <td>0</td>\n",
       "      <td>desktop</td>\n",
       "      <td>2240932.0</td>\n",
       "      <td>True</td>\n",
       "    </tr>\n",
       "    <tr>\n",
       "      <th>24</th>\n",
       "      <td>15600</td>\n",
       "      <td>3004482724190820191-6917530135205858963-1.4228...</td>\n",
       "      <td>1422826984</td>\n",
       "      <td>1.422827e+09</td>\n",
       "      <td>14.400000</td>\n",
       "      <td>2</td>\n",
       "      <td>18.550000</td>\n",
       "      <td>11</td>\n",
       "      <td>20</td>\n",
       "      <td>3</td>\n",
       "      <td>4</td>\n",
       "      <td>0</td>\n",
       "      <td>desktop</td>\n",
       "      <td>3713772.0</td>\n",
       "      <td>True</td>\n",
       "    </tr>\n",
       "    <tr>\n",
       "      <th>25</th>\n",
       "      <td>15600</td>\n",
       "      <td>3004482724190820191-6917530135205858963-1.4265...</td>\n",
       "      <td>1426540756</td>\n",
       "      <td>1.426541e+09</td>\n",
       "      <td>13.700000</td>\n",
       "      <td>1</td>\n",
       "      <td>19.500000</td>\n",
       "      <td>3</td>\n",
       "      <td>0</td>\n",
       "      <td>0</td>\n",
       "      <td>0</td>\n",
       "      <td>0</td>\n",
       "      <td>desktop</td>\n",
       "      <td>443457.0</td>\n",
       "      <td>True</td>\n",
       "    </tr>\n",
       "    <tr>\n",
       "      <th>26</th>\n",
       "      <td>15600</td>\n",
       "      <td>3004482724190820191-6917530135205858963-1.4269...</td>\n",
       "      <td>1426984213</td>\n",
       "      <td>1.426984e+09</td>\n",
       "      <td>3.766667</td>\n",
       "      <td>1</td>\n",
       "      <td>15.833333</td>\n",
       "      <td>3</td>\n",
       "      <td>10</td>\n",
       "      <td>0</td>\n",
       "      <td>0</td>\n",
       "      <td>0</td>\n",
       "      <td>desktop</td>\n",
       "      <td>336939.0</td>\n",
       "      <td>True</td>\n",
       "    </tr>\n",
       "    <tr>\n",
       "      <th>27</th>\n",
       "      <td>15600</td>\n",
       "      <td>3004482724190820191-6917530135205858963-1.4273...</td>\n",
       "      <td>1427321152</td>\n",
       "      <td>1.427321e+09</td>\n",
       "      <td>3.700000</td>\n",
       "      <td>1</td>\n",
       "      <td>20.500000</td>\n",
       "      <td>2</td>\n",
       "      <td>4</td>\n",
       "      <td>1</td>\n",
       "      <td>0</td>\n",
       "      <td>0</td>\n",
       "      <td>desktop</td>\n",
       "      <td>431460.0</td>\n",
       "      <td>True</td>\n",
       "    </tr>\n",
       "    <tr>\n",
       "      <th>28</th>\n",
       "      <td>15600</td>\n",
       "      <td>3004482724190820191-6917530135205858963-1.4277...</td>\n",
       "      <td>1427752612</td>\n",
       "      <td>1.427756e+09</td>\n",
       "      <td>5.666666</td>\n",
       "      <td>1</td>\n",
       "      <td>70.250000</td>\n",
       "      <td>2</td>\n",
       "      <td>9</td>\n",
       "      <td>2</td>\n",
       "      <td>0</td>\n",
       "      <td>1</td>\n",
       "      <td>desktop</td>\n",
       "      <td>170815.0</td>\n",
       "      <td>True</td>\n",
       "    </tr>\n",
       "    <tr>\n",
       "      <th>29</th>\n",
       "      <td>15600</td>\n",
       "      <td>3004482724190820191-6917530135205858963-1.4279...</td>\n",
       "      <td>1427923427</td>\n",
       "      <td>1.427927e+09</td>\n",
       "      <td>7.933333</td>\n",
       "      <td>2</td>\n",
       "      <td>37.500000</td>\n",
       "      <td>2</td>\n",
       "      <td>2</td>\n",
       "      <td>1</td>\n",
       "      <td>0</td>\n",
       "      <td>0</td>\n",
       "      <td>desktop</td>\n",
       "      <td>90710.0</td>\n",
       "      <td>True</td>\n",
       "    </tr>\n",
       "    <tr>\n",
       "      <th>...</th>\n",
       "      <td>...</td>\n",
       "      <td>...</td>\n",
       "      <td>...</td>\n",
       "      <td>...</td>\n",
       "      <td>...</td>\n",
       "      <td>...</td>\n",
       "      <td>...</td>\n",
       "      <td>...</td>\n",
       "      <td>...</td>\n",
       "      <td>...</td>\n",
       "      <td>...</td>\n",
       "      <td>...</td>\n",
       "      <td>...</td>\n",
       "      <td>...</td>\n",
       "      <td>...</td>\n",
       "    </tr>\n",
       "    <tr>\n",
       "      <th>790007</th>\n",
       "      <td>111598000</td>\n",
       "      <td>8218075698735873329-437612043224068436-1.45158...</td>\n",
       "      <td>1451589365</td>\n",
       "      <td>1.451593e+09</td>\n",
       "      <td>11.666667</td>\n",
       "      <td>2</td>\n",
       "      <td>8.850000</td>\n",
       "      <td>31</td>\n",
       "      <td>0</td>\n",
       "      <td>0</td>\n",
       "      <td>0</td>\n",
       "      <td>0</td>\n",
       "      <td>Android</td>\n",
       "      <td>13435.0</td>\n",
       "      <td>False</td>\n",
       "    </tr>\n",
       "    <tr>\n",
       "      <th>790008</th>\n",
       "      <td>111599600</td>\n",
       "      <td>6857123924396871606-1628509609230274999-1.4515...</td>\n",
       "      <td>1451507563</td>\n",
       "      <td>1.451508e+09</td>\n",
       "      <td>29.466667</td>\n",
       "      <td>2</td>\n",
       "      <td>9.416667</td>\n",
       "      <td>48</td>\n",
       "      <td>0</td>\n",
       "      <td>0</td>\n",
       "      <td>0</td>\n",
       "      <td>0</td>\n",
       "      <td>iOS</td>\n",
       "      <td>84170.0</td>\n",
       "      <td>True</td>\n",
       "    </tr>\n",
       "    <tr>\n",
       "      <th>790009</th>\n",
       "      <td>111599600</td>\n",
       "      <td>6857123924396871606-1628509609230274999-1.4515...</td>\n",
       "      <td>1451591733</td>\n",
       "      <td>1.451592e+09</td>\n",
       "      <td>36.600000</td>\n",
       "      <td>2</td>\n",
       "      <td>7.750000</td>\n",
       "      <td>53</td>\n",
       "      <td>0</td>\n",
       "      <td>0</td>\n",
       "      <td>0</td>\n",
       "      <td>0</td>\n",
       "      <td>iOS</td>\n",
       "      <td>14667.0</td>\n",
       "      <td>False</td>\n",
       "    </tr>\n",
       "    <tr>\n",
       "      <th>790010</th>\n",
       "      <td>111600400</td>\n",
       "      <td>774180222370358585-5985785370251692853-1.45151...</td>\n",
       "      <td>1451517996</td>\n",
       "      <td>1.451522e+09</td>\n",
       "      <td>11.050000</td>\n",
       "      <td>2</td>\n",
       "      <td>147.891310</td>\n",
       "      <td>25</td>\n",
       "      <td>0</td>\n",
       "      <td>0</td>\n",
       "      <td>0</td>\n",
       "      <td>0</td>\n",
       "      <td>iOS</td>\n",
       "      <td>84804.0</td>\n",
       "      <td>False</td>\n",
       "    </tr>\n",
       "    <tr>\n",
       "      <th>790011</th>\n",
       "      <td>111600600</td>\n",
       "      <td>6652967869100644572-3115531786640284081-1.4515...</td>\n",
       "      <td>1451509099</td>\n",
       "      <td>1.451513e+09</td>\n",
       "      <td>19.666666</td>\n",
       "      <td>1</td>\n",
       "      <td>21.416666</td>\n",
       "      <td>18</td>\n",
       "      <td>0</td>\n",
       "      <td>0</td>\n",
       "      <td>0</td>\n",
       "      <td>0</td>\n",
       "      <td>iOS</td>\n",
       "      <td>93701.0</td>\n",
       "      <td>False</td>\n",
       "    </tr>\n",
       "    <tr>\n",
       "      <th>790012</th>\n",
       "      <td>111602600</td>\n",
       "      <td>4449688105656396046-7286076833064720969-1.4515...</td>\n",
       "      <td>1451512301</td>\n",
       "      <td>1.451516e+09</td>\n",
       "      <td>49.050000</td>\n",
       "      <td>2</td>\n",
       "      <td>88.571070</td>\n",
       "      <td>30</td>\n",
       "      <td>0</td>\n",
       "      <td>0</td>\n",
       "      <td>0</td>\n",
       "      <td>0</td>\n",
       "      <td>iOS</td>\n",
       "      <td>90499.0</td>\n",
       "      <td>False</td>\n",
       "    </tr>\n",
       "    <tr>\n",
       "      <th>790013</th>\n",
       "      <td>111606400</td>\n",
       "      <td>3330528277779483569-407745916108244381-1.45151...</td>\n",
       "      <td>1451519440</td>\n",
       "      <td>1.451519e+09</td>\n",
       "      <td>1438.900000</td>\n",
       "      <td>1</td>\n",
       "      <td>72.132670</td>\n",
       "      <td>22</td>\n",
       "      <td>0</td>\n",
       "      <td>0</td>\n",
       "      <td>0</td>\n",
       "      <td>0</td>\n",
       "      <td>iOS</td>\n",
       "      <td>86960.0</td>\n",
       "      <td>False</td>\n",
       "    </tr>\n",
       "    <tr>\n",
       "      <th>790014</th>\n",
       "      <td>111607000</td>\n",
       "      <td>5113946256592865550-9062021472711521840-1.4515...</td>\n",
       "      <td>1451521406</td>\n",
       "      <td>1.451493e+09</td>\n",
       "      <td>8.183333</td>\n",
       "      <td>1</td>\n",
       "      <td>16.875000</td>\n",
       "      <td>4</td>\n",
       "      <td>0</td>\n",
       "      <td>0</td>\n",
       "      <td>0</td>\n",
       "      <td>0</td>\n",
       "      <td>iOS</td>\n",
       "      <td>113794.0</td>\n",
       "      <td>False</td>\n",
       "    </tr>\n",
       "    <tr>\n",
       "      <th>790015</th>\n",
       "      <td>111608000</td>\n",
       "      <td>2539196327770690206-4818032359689725696-1.4515...</td>\n",
       "      <td>1451523849</td>\n",
       "      <td>1.451527e+09</td>\n",
       "      <td>20.250000</td>\n",
       "      <td>1</td>\n",
       "      <td>82.000000</td>\n",
       "      <td>3</td>\n",
       "      <td>2</td>\n",
       "      <td>0</td>\n",
       "      <td>0</td>\n",
       "      <td>0</td>\n",
       "      <td>desktop</td>\n",
       "      <td>78951.0</td>\n",
       "      <td>False</td>\n",
       "    </tr>\n",
       "    <tr>\n",
       "      <th>790016</th>\n",
       "      <td>111608800</td>\n",
       "      <td>5627057564745790045-3992816668390440673-1.4515...</td>\n",
       "      <td>1451577500</td>\n",
       "      <td>1.451560e+09</td>\n",
       "      <td>5.750000</td>\n",
       "      <td>1</td>\n",
       "      <td>5.000000</td>\n",
       "      <td>2</td>\n",
       "      <td>0</td>\n",
       "      <td>0</td>\n",
       "      <td>0</td>\n",
       "      <td>0</td>\n",
       "      <td>Android</td>\n",
       "      <td>46900.0</td>\n",
       "      <td>False</td>\n",
       "    </tr>\n",
       "    <tr>\n",
       "      <th>790017</th>\n",
       "      <td>111609000</td>\n",
       "      <td>1179136980587009159-3457226965266492953-1.4515...</td>\n",
       "      <td>1451527550</td>\n",
       "      <td>1.451531e+09</td>\n",
       "      <td>26.100000</td>\n",
       "      <td>1</td>\n",
       "      <td>10.710000</td>\n",
       "      <td>9</td>\n",
       "      <td>6</td>\n",
       "      <td>0</td>\n",
       "      <td>0</td>\n",
       "      <td>0</td>\n",
       "      <td>desktop</td>\n",
       "      <td>75250.0</td>\n",
       "      <td>False</td>\n",
       "    </tr>\n",
       "    <tr>\n",
       "      <th>790018</th>\n",
       "      <td>111610000</td>\n",
       "      <td>1426740015944036519-608122737125060472-1.45153...</td>\n",
       "      <td>1451532402</td>\n",
       "      <td>1.451568e+09</td>\n",
       "      <td>26.333334</td>\n",
       "      <td>2</td>\n",
       "      <td>23.600000</td>\n",
       "      <td>16</td>\n",
       "      <td>1</td>\n",
       "      <td>1</td>\n",
       "      <td>9</td>\n",
       "      <td>0</td>\n",
       "      <td>desktop</td>\n",
       "      <td>37998.0</td>\n",
       "      <td>False</td>\n",
       "    </tr>\n",
       "    <tr>\n",
       "      <th>790019</th>\n",
       "      <td>111611200</td>\n",
       "      <td>708660749695858627-3410769525219474914-1.45153...</td>\n",
       "      <td>1451538831</td>\n",
       "      <td>1.451521e+09</td>\n",
       "      <td>18.733334</td>\n",
       "      <td>1</td>\n",
       "      <td>40.872500</td>\n",
       "      <td>20</td>\n",
       "      <td>0</td>\n",
       "      <td>0</td>\n",
       "      <td>0</td>\n",
       "      <td>0</td>\n",
       "      <td>iOS</td>\n",
       "      <td>85569.0</td>\n",
       "      <td>False</td>\n",
       "    </tr>\n",
       "    <tr>\n",
       "      <th>790020</th>\n",
       "      <td>111612000</td>\n",
       "      <td>6705396499761620367-236892493529548486-1.45154...</td>\n",
       "      <td>1451543897</td>\n",
       "      <td>1.451547e+09</td>\n",
       "      <td>57.516666</td>\n",
       "      <td>2</td>\n",
       "      <td>19.475000</td>\n",
       "      <td>24</td>\n",
       "      <td>50</td>\n",
       "      <td>1</td>\n",
       "      <td>0</td>\n",
       "      <td>6</td>\n",
       "      <td>desktop</td>\n",
       "      <td>58903.0</td>\n",
       "      <td>False</td>\n",
       "    </tr>\n",
       "    <tr>\n",
       "      <th>790021</th>\n",
       "      <td>111617800</td>\n",
       "      <td>2993277640199695657-8429337460122083817-1.4515...</td>\n",
       "      <td>1451590479</td>\n",
       "      <td>1.451594e+09</td>\n",
       "      <td>25.266666</td>\n",
       "      <td>2</td>\n",
       "      <td>44.659600</td>\n",
       "      <td>26</td>\n",
       "      <td>64</td>\n",
       "      <td>3</td>\n",
       "      <td>0</td>\n",
       "      <td>0</td>\n",
       "      <td>desktop</td>\n",
       "      <td>12321.0</td>\n",
       "      <td>False</td>\n",
       "    </tr>\n",
       "    <tr>\n",
       "      <th>790022</th>\n",
       "      <td>111618400</td>\n",
       "      <td>6906984223075548497-3788983229864740245-1.4515...</td>\n",
       "      <td>1451568326</td>\n",
       "      <td>1.451568e+09</td>\n",
       "      <td>15.633333</td>\n",
       "      <td>2</td>\n",
       "      <td>25.714285</td>\n",
       "      <td>10</td>\n",
       "      <td>0</td>\n",
       "      <td>0</td>\n",
       "      <td>0</td>\n",
       "      <td>0</td>\n",
       "      <td>iOS</td>\n",
       "      <td>38074.0</td>\n",
       "      <td>False</td>\n",
       "    </tr>\n",
       "    <tr>\n",
       "      <th>790023</th>\n",
       "      <td>111619200</td>\n",
       "      <td>9200381935930473957-6457529118130104119-1.4515...</td>\n",
       "      <td>1451570409</td>\n",
       "      <td>1.451570e+09</td>\n",
       "      <td>72.800000</td>\n",
       "      <td>2</td>\n",
       "      <td>7.036459</td>\n",
       "      <td>133</td>\n",
       "      <td>0</td>\n",
       "      <td>0</td>\n",
       "      <td>0</td>\n",
       "      <td>0</td>\n",
       "      <td>iOS</td>\n",
       "      <td>5258.0</td>\n",
       "      <td>True</td>\n",
       "    </tr>\n",
       "    <tr>\n",
       "      <th>790024</th>\n",
       "      <td>111619200</td>\n",
       "      <td>1003863496698865830-2661383862824048381-1.4515...</td>\n",
       "      <td>1451575667</td>\n",
       "      <td>1.451576e+09</td>\n",
       "      <td>23.533333</td>\n",
       "      <td>1</td>\n",
       "      <td>3.766667</td>\n",
       "      <td>17</td>\n",
       "      <td>7</td>\n",
       "      <td>0</td>\n",
       "      <td>0</td>\n",
       "      <td>0</td>\n",
       "      <td>desktop</td>\n",
       "      <td>30733.0</td>\n",
       "      <td>False</td>\n",
       "    </tr>\n",
       "    <tr>\n",
       "      <th>790025</th>\n",
       "      <td>111621600</td>\n",
       "      <td>5423996473290779875-5511334219849089398-1.4515...</td>\n",
       "      <td>1451576691</td>\n",
       "      <td>1.451605e+09</td>\n",
       "      <td>23.950000</td>\n",
       "      <td>1</td>\n",
       "      <td>45.779410</td>\n",
       "      <td>61</td>\n",
       "      <td>0</td>\n",
       "      <td>0</td>\n",
       "      <td>0</td>\n",
       "      <td>0</td>\n",
       "      <td>iOS</td>\n",
       "      <td>909.0</td>\n",
       "      <td>False</td>\n",
       "    </tr>\n",
       "    <tr>\n",
       "      <th>790026</th>\n",
       "      <td>111623200</td>\n",
       "      <td>2006256359021161339-7976566743876487681-1.4515...</td>\n",
       "      <td>1451580578</td>\n",
       "      <td>1.451584e+09</td>\n",
       "      <td>12.766666</td>\n",
       "      <td>1</td>\n",
       "      <td>58.166668</td>\n",
       "      <td>8</td>\n",
       "      <td>0</td>\n",
       "      <td>0</td>\n",
       "      <td>0</td>\n",
       "      <td>0</td>\n",
       "      <td>Android</td>\n",
       "      <td>22222.0</td>\n",
       "      <td>False</td>\n",
       "    </tr>\n",
       "    <tr>\n",
       "      <th>790027</th>\n",
       "      <td>111623800</td>\n",
       "      <td>6081268265951711267-6226559601385455039-1.4515...</td>\n",
       "      <td>1451582302</td>\n",
       "      <td>1.451586e+09</td>\n",
       "      <td>4.483333</td>\n",
       "      <td>2</td>\n",
       "      <td>29.142857</td>\n",
       "      <td>6</td>\n",
       "      <td>18</td>\n",
       "      <td>0</td>\n",
       "      <td>0</td>\n",
       "      <td>0</td>\n",
       "      <td>desktop</td>\n",
       "      <td>2315.0</td>\n",
       "      <td>True</td>\n",
       "    </tr>\n",
       "    <tr>\n",
       "      <th>790028</th>\n",
       "      <td>111623800</td>\n",
       "      <td>6081268265951711267-6226559601385455039-1.4515...</td>\n",
       "      <td>1451584617</td>\n",
       "      <td>1.451588e+09</td>\n",
       "      <td>34.450000</td>\n",
       "      <td>2</td>\n",
       "      <td>50.285713</td>\n",
       "      <td>6</td>\n",
       "      <td>19</td>\n",
       "      <td>0</td>\n",
       "      <td>0</td>\n",
       "      <td>0</td>\n",
       "      <td>desktop</td>\n",
       "      <td>18183.0</td>\n",
       "      <td>False</td>\n",
       "    </tr>\n",
       "    <tr>\n",
       "      <th>790029</th>\n",
       "      <td>111624000</td>\n",
       "      <td>125671277403108296-4241086897191260501-1.45157...</td>\n",
       "      <td>1451582855</td>\n",
       "      <td>1.451586e+09</td>\n",
       "      <td>3.066667</td>\n",
       "      <td>1</td>\n",
       "      <td>35.500000</td>\n",
       "      <td>3</td>\n",
       "      <td>0</td>\n",
       "      <td>0</td>\n",
       "      <td>0</td>\n",
       "      <td>0</td>\n",
       "      <td>desktop</td>\n",
       "      <td>19945.0</td>\n",
       "      <td>False</td>\n",
       "    </tr>\n",
       "    <tr>\n",
       "      <th>790030</th>\n",
       "      <td>111625200</td>\n",
       "      <td>3020658860252892273-8550638949471945053-1.4515...</td>\n",
       "      <td>1451586617</td>\n",
       "      <td>1.451590e+09</td>\n",
       "      <td>13.366667</td>\n",
       "      <td>1</td>\n",
       "      <td>27.500000</td>\n",
       "      <td>2</td>\n",
       "      <td>0</td>\n",
       "      <td>0</td>\n",
       "      <td>0</td>\n",
       "      <td>0</td>\n",
       "      <td>mobile</td>\n",
       "      <td>16183.0</td>\n",
       "      <td>False</td>\n",
       "    </tr>\n",
       "    <tr>\n",
       "      <th>790031</th>\n",
       "      <td>111625800</td>\n",
       "      <td>2457017288787565276-9147064100061271486-1.4515...</td>\n",
       "      <td>1451588418</td>\n",
       "      <td>1.451560e+09</td>\n",
       "      <td>21.933332</td>\n",
       "      <td>1</td>\n",
       "      <td>29.524736</td>\n",
       "      <td>43</td>\n",
       "      <td>0</td>\n",
       "      <td>0</td>\n",
       "      <td>0</td>\n",
       "      <td>0</td>\n",
       "      <td>iOS</td>\n",
       "      <td>12469.0</td>\n",
       "      <td>True</td>\n",
       "    </tr>\n",
       "    <tr>\n",
       "      <th>790032</th>\n",
       "      <td>111625800</td>\n",
       "      <td>2457017288787565276-9147064100061271486-1.4516...</td>\n",
       "      <td>1451600887</td>\n",
       "      <td>1.451572e+09</td>\n",
       "      <td>23.783333</td>\n",
       "      <td>2</td>\n",
       "      <td>27.630000</td>\n",
       "      <td>45</td>\n",
       "      <td>0</td>\n",
       "      <td>0</td>\n",
       "      <td>0</td>\n",
       "      <td>0</td>\n",
       "      <td>iOS</td>\n",
       "      <td>34313.0</td>\n",
       "      <td>False</td>\n",
       "    </tr>\n",
       "    <tr>\n",
       "      <th>790033</th>\n",
       "      <td>111627000</td>\n",
       "      <td>3877788733740801185-7209397549116262998-1.4516...</td>\n",
       "      <td>1451607150</td>\n",
       "      <td>1.451589e+09</td>\n",
       "      <td>12.650000</td>\n",
       "      <td>1</td>\n",
       "      <td>98.450000</td>\n",
       "      <td>12</td>\n",
       "      <td>44</td>\n",
       "      <td>0</td>\n",
       "      <td>0</td>\n",
       "      <td>0</td>\n",
       "      <td>desktop</td>\n",
       "      <td>17250.0</td>\n",
       "      <td>False</td>\n",
       "    </tr>\n",
       "    <tr>\n",
       "      <th>790034</th>\n",
       "      <td>111627600</td>\n",
       "      <td>8984711592217024272-8130879923038287430-1.4515...</td>\n",
       "      <td>1451595139</td>\n",
       "      <td>1.451599e+09</td>\n",
       "      <td>13.083333</td>\n",
       "      <td>1</td>\n",
       "      <td>58.500000</td>\n",
       "      <td>5</td>\n",
       "      <td>7</td>\n",
       "      <td>0</td>\n",
       "      <td>0</td>\n",
       "      <td>0</td>\n",
       "      <td>desktop</td>\n",
       "      <td>7661.0</td>\n",
       "      <td>False</td>\n",
       "    </tr>\n",
       "    <tr>\n",
       "      <th>790035</th>\n",
       "      <td>111628400</td>\n",
       "      <td>6071332640625345666-2147499677536672265-1.4515...</td>\n",
       "      <td>1451598611</td>\n",
       "      <td>1.451602e+09</td>\n",
       "      <td>25.650000</td>\n",
       "      <td>1</td>\n",
       "      <td>118.500000</td>\n",
       "      <td>2</td>\n",
       "      <td>3</td>\n",
       "      <td>1</td>\n",
       "      <td>0</td>\n",
       "      <td>0</td>\n",
       "      <td>desktop</td>\n",
       "      <td>4189.0</td>\n",
       "      <td>False</td>\n",
       "    </tr>\n",
       "    <tr>\n",
       "      <th>790036</th>\n",
       "      <td>111629800</td>\n",
       "      <td>248119116638155544-7285764797262534377-1.45160...</td>\n",
       "      <td>1451604120</td>\n",
       "      <td>1.451604e+09</td>\n",
       "      <td>43265.016000</td>\n",
       "      <td>2</td>\n",
       "      <td>22.361110</td>\n",
       "      <td>23</td>\n",
       "      <td>35</td>\n",
       "      <td>0</td>\n",
       "      <td>11</td>\n",
       "      <td>0</td>\n",
       "      <td>desktop</td>\n",
       "      <td>2280.0</td>\n",
       "      <td>False</td>\n",
       "    </tr>\n",
       "  </tbody>\n",
       "</table>\n",
       "<p>790037 rows × 15 columns</p>\n",
       "</div>"
      ],
      "text/plain": [
       "        customerId                                          sessionId  \\\n",
       "0             4600                1257495808-1341698085-1.428265218E9   \n",
       "1             4600  5371143799284085389-3809498348446746724-1.4468...   \n",
       "2             4600  5371143799284085389-3809498348446746724-1.4486...   \n",
       "3             4600  5371143799284085389-3809498348446746724-1.4486...   \n",
       "4             4600  5371143799284085389-3809498348446746724-1.4486...   \n",
       "5             4600  5371143799284085389-3809498348446746724-1.4487...   \n",
       "6             4600  5371143799284085389-3809498348446746724-1.4488...   \n",
       "7             4600  5371143799284085389-3809498348446746724-1.4488...   \n",
       "8             4800  5254901231698233801-2901597573009043271-1.4373...   \n",
       "9             4800  5254901231698233801-2901597573009043271-1.4374...   \n",
       "10            5000  3036086059922432306-6917530166344383656-1.4215...   \n",
       "11            5000                1962822102-2052657968-1.433520727E9   \n",
       "12            6600  2656931474588539840-7826403508261592679-1.4355...   \n",
       "13            6600  3394236519065805772-4839741357857331042-1.4420...   \n",
       "14            9800  3016151690772547192-4611687160351849230-1.4420...   \n",
       "15            9800  3016151690772547192-4611687160351849230-1.4470...   \n",
       "16            9800  7010479965667294992-5288269321925196693-1.4470...   \n",
       "17            9800  3016151690772547192-4611687160351849230-1.4481...   \n",
       "18            9800  7010479965667294992-5288269321925196693-1.4481...   \n",
       "19            9800  7010479965667294992-5288269321925196693-1.4499...   \n",
       "20            9800  7010479965667294992-5288269321925196693-1.4514...   \n",
       "21           14600  2999283331271571617-4611687123308097518-1.4274...   \n",
       "22           14600  3560869624064684401-8001200099093909566-1.4489...   \n",
       "23           15600  3004482724190820191-6917530135205858963-1.4205...   \n",
       "24           15600  3004482724190820191-6917530135205858963-1.4228...   \n",
       "25           15600  3004482724190820191-6917530135205858963-1.4265...   \n",
       "26           15600  3004482724190820191-6917530135205858963-1.4269...   \n",
       "27           15600  3004482724190820191-6917530135205858963-1.4273...   \n",
       "28           15600  3004482724190820191-6917530135205858963-1.4277...   \n",
       "29           15600  3004482724190820191-6917530135205858963-1.4279...   \n",
       "...            ...                                                ...   \n",
       "790007   111598000  8218075698735873329-437612043224068436-1.45158...   \n",
       "790008   111599600  6857123924396871606-1628509609230274999-1.4515...   \n",
       "790009   111599600  6857123924396871606-1628509609230274999-1.4515...   \n",
       "790010   111600400  774180222370358585-5985785370251692853-1.45151...   \n",
       "790011   111600600  6652967869100644572-3115531786640284081-1.4515...   \n",
       "790012   111602600  4449688105656396046-7286076833064720969-1.4515...   \n",
       "790013   111606400  3330528277779483569-407745916108244381-1.45151...   \n",
       "790014   111607000  5113946256592865550-9062021472711521840-1.4515...   \n",
       "790015   111608000  2539196327770690206-4818032359689725696-1.4515...   \n",
       "790016   111608800  5627057564745790045-3992816668390440673-1.4515...   \n",
       "790017   111609000  1179136980587009159-3457226965266492953-1.4515...   \n",
       "790018   111610000  1426740015944036519-608122737125060472-1.45153...   \n",
       "790019   111611200  708660749695858627-3410769525219474914-1.45153...   \n",
       "790020   111612000  6705396499761620367-236892493529548486-1.45154...   \n",
       "790021   111617800  2993277640199695657-8429337460122083817-1.4515...   \n",
       "790022   111618400  6906984223075548497-3788983229864740245-1.4515...   \n",
       "790023   111619200  9200381935930473957-6457529118130104119-1.4515...   \n",
       "790024   111619200  1003863496698865830-2661383862824048381-1.4515...   \n",
       "790025   111621600  5423996473290779875-5511334219849089398-1.4515...   \n",
       "790026   111623200  2006256359021161339-7976566743876487681-1.4515...   \n",
       "790027   111623800  6081268265951711267-6226559601385455039-1.4515...   \n",
       "790028   111623800  6081268265951711267-6226559601385455039-1.4515...   \n",
       "790029   111624000  125671277403108296-4241086897191260501-1.45157...   \n",
       "790030   111625200  3020658860252892273-8550638949471945053-1.4515...   \n",
       "790031   111625800  2457017288787565276-9147064100061271486-1.4515...   \n",
       "790032   111625800  2457017288787565276-9147064100061271486-1.4516...   \n",
       "790033   111627000  3877788733740801185-7209397549116262998-1.4516...   \n",
       "790034   111627600  8984711592217024272-8130879923038287430-1.4515...   \n",
       "790035   111628400  6071332640625345666-2147499677536672265-1.4515...   \n",
       "790036   111629800  248119116638155544-7285764797262534377-1.45160...   \n",
       "\n",
       "         startTime  startUserTime  sessionLength  numberdivisions    avgPrice  \\\n",
       "0       1428265218   1.428265e+09      25.333334                1   21.900000   \n",
       "1       1446813814   1.446814e+09      23.250000                1   20.372500   \n",
       "2       1448642517   1.448643e+09      32.733334                2   78.333336   \n",
       "3       1448657547   1.448658e+09      59.233334                1   32.380478   \n",
       "4       1448698078   1.448698e+09      27.083334                1   24.248236   \n",
       "5       1448725197   1.448725e+09      40.750000                1   23.924000   \n",
       "6       1448827296   1.448827e+09      52.200000                2   26.824000   \n",
       "7       1448833544   1.448834e+09       5.733333                1   17.500000   \n",
       "8       1437319952   1.437324e+09       4.683333                1   22.750000   \n",
       "9       1437474312   1.437478e+09       5.183333                1   39.000000   \n",
       "10      1421513817   1.421514e+09      13.566667                1   19.750000   \n",
       "11      1433520727   1.433521e+09       5.666666                2    8.727273   \n",
       "12      1435584426   1.435588e+09      10.083333                1   11.250000   \n",
       "13      1442081030   1.442085e+09      22.883333                2    7.113846   \n",
       "14      1442034428   1.442038e+09       8.733334                1   37.299000   \n",
       "15      1447016993   1.447017e+09      11.283334                2   29.416666   \n",
       "16      1447018030   1.447018e+09      17.783333                2   84.293526   \n",
       "17      1448140614   1.448141e+09      13.300000                2   54.277780   \n",
       "18      1448142769   1.448143e+09       6.016667                1   71.166664   \n",
       "19      1449957150   1.449957e+09      12.966666                1   44.583332   \n",
       "20      1451425104   1.451425e+09       9.900000                1   73.444440   \n",
       "21      1427408493   1.427408e+09       8.266666                1   46.785713   \n",
       "22      1448982820   1.448983e+09      11.350000                1   34.285000   \n",
       "23      1420586052   1.420586e+09       3.066667                1   28.666666   \n",
       "24      1422826984   1.422827e+09      14.400000                2   18.550000   \n",
       "25      1426540756   1.426541e+09      13.700000                1   19.500000   \n",
       "26      1426984213   1.426984e+09       3.766667                1   15.833333   \n",
       "27      1427321152   1.427321e+09       3.700000                1   20.500000   \n",
       "28      1427752612   1.427756e+09       5.666666                1   70.250000   \n",
       "29      1427923427   1.427927e+09       7.933333                2   37.500000   \n",
       "...            ...            ...            ...              ...         ...   \n",
       "790007  1451589365   1.451593e+09      11.666667                2    8.850000   \n",
       "790008  1451507563   1.451508e+09      29.466667                2    9.416667   \n",
       "790009  1451591733   1.451592e+09      36.600000                2    7.750000   \n",
       "790010  1451517996   1.451522e+09      11.050000                2  147.891310   \n",
       "790011  1451509099   1.451513e+09      19.666666                1   21.416666   \n",
       "790012  1451512301   1.451516e+09      49.050000                2   88.571070   \n",
       "790013  1451519440   1.451519e+09    1438.900000                1   72.132670   \n",
       "790014  1451521406   1.451493e+09       8.183333                1   16.875000   \n",
       "790015  1451523849   1.451527e+09      20.250000                1   82.000000   \n",
       "790016  1451577500   1.451560e+09       5.750000                1    5.000000   \n",
       "790017  1451527550   1.451531e+09      26.100000                1   10.710000   \n",
       "790018  1451532402   1.451568e+09      26.333334                2   23.600000   \n",
       "790019  1451538831   1.451521e+09      18.733334                1   40.872500   \n",
       "790020  1451543897   1.451547e+09      57.516666                2   19.475000   \n",
       "790021  1451590479   1.451594e+09      25.266666                2   44.659600   \n",
       "790022  1451568326   1.451568e+09      15.633333                2   25.714285   \n",
       "790023  1451570409   1.451570e+09      72.800000                2    7.036459   \n",
       "790024  1451575667   1.451576e+09      23.533333                1    3.766667   \n",
       "790025  1451576691   1.451605e+09      23.950000                1   45.779410   \n",
       "790026  1451580578   1.451584e+09      12.766666                1   58.166668   \n",
       "790027  1451582302   1.451586e+09       4.483333                2   29.142857   \n",
       "790028  1451584617   1.451588e+09      34.450000                2   50.285713   \n",
       "790029  1451582855   1.451586e+09       3.066667                1   35.500000   \n",
       "790030  1451586617   1.451590e+09      13.366667                1   27.500000   \n",
       "790031  1451588418   1.451560e+09      21.933332                1   29.524736   \n",
       "790032  1451600887   1.451572e+09      23.783333                2   27.630000   \n",
       "790033  1451607150   1.451589e+09      12.650000                1   98.450000   \n",
       "790034  1451595139   1.451599e+09      13.083333                1   58.500000   \n",
       "790035  1451598611   1.451602e+09      25.650000                1  118.500000   \n",
       "790036  1451604120   1.451604e+09   43265.016000                2   22.361110   \n",
       "\n",
       "        viewonly  changeThumbnail  imageZoom  watchVideo  view360   device  \\\n",
       "0             16                0          0           0        0      iOS   \n",
       "1              4                6          0           1        0  desktop   \n",
       "2             10                0          0           0        0  desktop   \n",
       "3             50              114         18           0        0  desktop   \n",
       "4             35               61          6           0        0  desktop   \n",
       "5             28               45          4           2        0  desktop   \n",
       "6             26               23          5           1        0  desktop   \n",
       "7              4                6          0           0        0  desktop   \n",
       "8              6                8          0           0        0   mobile   \n",
       "9              5                8          0           1        0   mobile   \n",
       "10             3                0          0           0        0  desktop   \n",
       "11            12                0          0           0        0      iOS   \n",
       "12            12               43          0           0        0   mobile   \n",
       "13            15               48          0           0        0   mobile   \n",
       "14            10               49          0           0        0   mobile   \n",
       "15             7               16          0           0        0   mobile   \n",
       "16            26                0          0           0        0      iOS   \n",
       "17             9               29          0           0        0   mobile   \n",
       "18            12                0          0           0        0      iOS   \n",
       "19             6                0          0           0        0      iOS   \n",
       "20            13                0          0           0        0      iOS   \n",
       "21             7                4          0           0        0  desktop   \n",
       "22            20                0          0           0        0      iOS   \n",
       "23             3                6          0           1        0  desktop   \n",
       "24            11               20          3           4        0  desktop   \n",
       "25             3                0          0           0        0  desktop   \n",
       "26             3               10          0           0        0  desktop   \n",
       "27             2                4          1           0        0  desktop   \n",
       "28             2                9          2           0        1  desktop   \n",
       "29             2                2          1           0        0  desktop   \n",
       "...          ...              ...        ...         ...      ...      ...   \n",
       "790007        31                0          0           0        0  Android   \n",
       "790008        48                0          0           0        0      iOS   \n",
       "790009        53                0          0           0        0      iOS   \n",
       "790010        25                0          0           0        0      iOS   \n",
       "790011        18                0          0           0        0      iOS   \n",
       "790012        30                0          0           0        0      iOS   \n",
       "790013        22                0          0           0        0      iOS   \n",
       "790014         4                0          0           0        0      iOS   \n",
       "790015         3                2          0           0        0  desktop   \n",
       "790016         2                0          0           0        0  Android   \n",
       "790017         9                6          0           0        0  desktop   \n",
       "790018        16                1          1           9        0  desktop   \n",
       "790019        20                0          0           0        0      iOS   \n",
       "790020        24               50          1           0        6  desktop   \n",
       "790021        26               64          3           0        0  desktop   \n",
       "790022        10                0          0           0        0      iOS   \n",
       "790023       133                0          0           0        0      iOS   \n",
       "790024        17                7          0           0        0  desktop   \n",
       "790025        61                0          0           0        0      iOS   \n",
       "790026         8                0          0           0        0  Android   \n",
       "790027         6               18          0           0        0  desktop   \n",
       "790028         6               19          0           0        0  desktop   \n",
       "790029         3                0          0           0        0  desktop   \n",
       "790030         2                0          0           0        0   mobile   \n",
       "790031        43                0          0           0        0      iOS   \n",
       "790032        45                0          0           0        0      iOS   \n",
       "790033        12               44          0           0        0  desktop   \n",
       "790034         5                7          0           0        0  desktop   \n",
       "790035         2                3          1           0        0  desktop   \n",
       "790036        23               35          0          11        0  desktop   \n",
       "\n",
       "        returnTime observed  \n",
       "0       18548596.0     True  \n",
       "1        1828703.0     True  \n",
       "2          15030.0     True  \n",
       "3          40531.0     True  \n",
       "4          27119.0     True  \n",
       "5         102099.0     True  \n",
       "6           6248.0     True  \n",
       "7        2772856.0    False  \n",
       "8         154360.0     True  \n",
       "9       14128488.0    False  \n",
       "10      12006910.0     True  \n",
       "11      18085673.0    False  \n",
       "12       6496604.0     True  \n",
       "13       9521770.0    False  \n",
       "14       4982565.0     True  \n",
       "15          1037.0     True  \n",
       "16       1122584.0     True  \n",
       "17          2155.0     True  \n",
       "18       1814381.0     True  \n",
       "19       1467954.0     True  \n",
       "20        181296.0    False  \n",
       "21      21574327.0     True  \n",
       "22       2623580.0    False  \n",
       "23       2240932.0     True  \n",
       "24       3713772.0     True  \n",
       "25        443457.0     True  \n",
       "26        336939.0     True  \n",
       "27        431460.0     True  \n",
       "28        170815.0     True  \n",
       "29         90710.0     True  \n",
       "...            ...      ...  \n",
       "790007     13435.0    False  \n",
       "790008     84170.0     True  \n",
       "790009     14667.0    False  \n",
       "790010     84804.0    False  \n",
       "790011     93701.0    False  \n",
       "790012     90499.0    False  \n",
       "790013     86960.0    False  \n",
       "790014    113794.0    False  \n",
       "790015     78951.0    False  \n",
       "790016     46900.0    False  \n",
       "790017     75250.0    False  \n",
       "790018     37998.0    False  \n",
       "790019     85569.0    False  \n",
       "790020     58903.0    False  \n",
       "790021     12321.0    False  \n",
       "790022     38074.0    False  \n",
       "790023      5258.0     True  \n",
       "790024     30733.0    False  \n",
       "790025       909.0    False  \n",
       "790026     22222.0    False  \n",
       "790027      2315.0     True  \n",
       "790028     18183.0    False  \n",
       "790029     19945.0    False  \n",
       "790030     16183.0    False  \n",
       "790031     12469.0     True  \n",
       "790032     34313.0    False  \n",
       "790033     17250.0    False  \n",
       "790034      7661.0    False  \n",
       "790035      4189.0    False  \n",
       "790036      2280.0    False  \n",
       "\n",
       "[790037 rows x 15 columns]"
      ]
     },
     "execution_count": 160,
     "metadata": {},
     "output_type": "execute_result"
    }
   ],
   "source": [
    "predDF"
   ]
  },
  {
   "cell_type": "markdown",
   "metadata": {},
   "source": [
    "### Customers without device"
   ]
  },
  {
   "cell_type": "code",
   "execution_count": 208,
   "metadata": {
    "collapsed": false
   },
   "outputs": [
    {
     "data": {
      "text/plain": [
       "4424"
      ]
     },
     "execution_count": 208,
     "metadata": {},
     "output_type": "execute_result"
    }
   ],
   "source": [
    "predDF.device.isnull().sum()"
   ]
  },
  {
   "cell_type": "code",
   "execution_count": 209,
   "metadata": {
    "collapsed": true
   },
   "outputs": [],
   "source": [
    "noDeviceCustomers = predDF[predDF.device.isnull()]['customerId'].unique()"
   ]
  },
  {
   "cell_type": "code",
   "execution_count": 212,
   "metadata": {
    "collapsed": false
   },
   "outputs": [],
   "source": [
    "predDevicesDF = predDF[~predDF.customerId.isin(noDeviceCustomers)]"
   ]
  },
  {
   "cell_type": "markdown",
   "metadata": {},
   "source": [
    "# Apply CPH Model\n",
    "Whole set takes too long to train. Sample customers representing each device type."
   ]
  },
  {
   "cell_type": "code",
   "execution_count": 214,
   "metadata": {
    "collapsed": false
   },
   "outputs": [],
   "source": [
    "customers = predDevicesDF.groupby(['device']).apply(lambda x: x.customerId.sample(100)).values"
   ]
  },
  {
   "cell_type": "code",
   "execution_count": 215,
   "metadata": {
    "collapsed": true
   },
   "outputs": [],
   "source": [
    "samplePredDF = predDevicesDF[predDevicesDF.customerId.isin(customers)]"
   ]
  },
  {
   "cell_type": "code",
   "execution_count": 228,
   "metadata": {
    "collapsed": true
   },
   "outputs": [],
   "source": [
    "modelspec = 'device - 1'\n",
    "\n",
    "dft = pt.dmatrix(modelspec, samplePredDF, return_type='dataframe')\n",
    "design_info = dft.design_info\n",
    "dft = dft.join(samplePredDF[['numberdivisions','viewonly','sessionLength','returnTime','observed']])"
   ]
  },
  {
   "cell_type": "code",
   "execution_count": 229,
   "metadata": {
    "collapsed": false
   },
   "outputs": [
    {
     "data": {
      "text/html": [
       "<div>\n",
       "<table border=\"1\" class=\"dataframe\">\n",
       "  <thead>\n",
       "    <tr style=\"text-align: right;\">\n",
       "      <th></th>\n",
       "      <th>3568</th>\n",
       "      <th>3569</th>\n",
       "      <th>3570</th>\n",
       "      <th>3571</th>\n",
       "      <th>3572</th>\n",
       "    </tr>\n",
       "  </thead>\n",
       "  <tbody>\n",
       "    <tr>\n",
       "      <th>device[Android]</th>\n",
       "      <td>0</td>\n",
       "      <td>0</td>\n",
       "      <td>0</td>\n",
       "      <td>0</td>\n",
       "      <td>0</td>\n",
       "    </tr>\n",
       "    <tr>\n",
       "      <th>device[desktop]</th>\n",
       "      <td>0</td>\n",
       "      <td>0</td>\n",
       "      <td>0</td>\n",
       "      <td>0</td>\n",
       "      <td>0</td>\n",
       "    </tr>\n",
       "    <tr>\n",
       "      <th>device[iOS]</th>\n",
       "      <td>1</td>\n",
       "      <td>1</td>\n",
       "      <td>1</td>\n",
       "      <td>1</td>\n",
       "      <td>1</td>\n",
       "    </tr>\n",
       "    <tr>\n",
       "      <th>device[mobile]</th>\n",
       "      <td>0</td>\n",
       "      <td>0</td>\n",
       "      <td>0</td>\n",
       "      <td>0</td>\n",
       "      <td>0</td>\n",
       "    </tr>\n",
       "    <tr>\n",
       "      <th>numberdivisions</th>\n",
       "      <td>2</td>\n",
       "      <td>2</td>\n",
       "      <td>1</td>\n",
       "      <td>1</td>\n",
       "      <td>1</td>\n",
       "    </tr>\n",
       "    <tr>\n",
       "      <th>viewonly</th>\n",
       "      <td>7</td>\n",
       "      <td>5</td>\n",
       "      <td>33</td>\n",
       "      <td>23</td>\n",
       "      <td>27</td>\n",
       "    </tr>\n",
       "    <tr>\n",
       "      <th>sessionLength</th>\n",
       "      <td>3.1</td>\n",
       "      <td>6.83333</td>\n",
       "      <td>36.15</td>\n",
       "      <td>33.1333</td>\n",
       "      <td>6.46667</td>\n",
       "    </tr>\n",
       "    <tr>\n",
       "      <th>returnTime</th>\n",
       "      <td>838690</td>\n",
       "      <td>2.01103e+06</td>\n",
       "      <td>171493</td>\n",
       "      <td>436883</td>\n",
       "      <td>3.70643e+06</td>\n",
       "    </tr>\n",
       "    <tr>\n",
       "      <th>observed</th>\n",
       "      <td>True</td>\n",
       "      <td>True</td>\n",
       "      <td>True</td>\n",
       "      <td>True</td>\n",
       "      <td>True</td>\n",
       "    </tr>\n",
       "  </tbody>\n",
       "</table>\n",
       "</div>"
      ],
      "text/plain": [
       "                   3568         3569    3570     3571         3572\n",
       "device[Android]       0            0       0        0            0\n",
       "device[desktop]       0            0       0        0            0\n",
       "device[iOS]           1            1       1        1            1\n",
       "device[mobile]        0            0       0        0            0\n",
       "numberdivisions       2            2       1        1            1\n",
       "viewonly              7            5      33       23           27\n",
       "sessionLength       3.1      6.83333   36.15  33.1333      6.46667\n",
       "returnTime       838690  2.01103e+06  171493   436883  3.70643e+06\n",
       "observed           True         True    True     True         True"
      ]
     },
     "execution_count": 229,
     "metadata": {},
     "output_type": "execute_result"
    }
   ],
   "source": [
    "dft.head().T"
   ]
  },
  {
   "cell_type": "code",
   "execution_count": 223,
   "metadata": {
    "collapsed": false
   },
   "outputs": [
    {
     "data": {
      "text/plain": [
       "<lifelines.CoxPHFitter: fitted with 22588 observations, 391 censored>"
      ]
     },
     "execution_count": 223,
     "metadata": {},
     "output_type": "execute_result"
    }
   ],
   "source": [
    "cx = sa.CoxPHFitter(normalize=False)\n",
    "cx.fit(df=dft, duration_col='returnTime', event_col='observed',show_progress=False, include_likelihood=True)"
   ]
  },
  {
   "cell_type": "code",
   "execution_count": 224,
   "metadata": {
    "collapsed": false
   },
   "outputs": [
    {
     "data": {
      "text/plain": [
       "<matplotlib.axes._subplots.AxesSubplot at 0x7f2811700e10>"
      ]
     },
     "execution_count": 224,
     "metadata": {},
     "output_type": "execute_result"
    },
    {
     "data": {
      "image/png": "[encoded data removed]",
      "text/plain": [
       "<matplotlib.figure.Figure at 0x7f27e4f392b0>"
      ]
     },
     "metadata": {},
     "output_type": "display_data"
    }
   ],
   "source": [
    "fig, axes = plt.subplots(nrows=1, ncols=2, squeeze=False, sharex=True)\n",
    "cx.baseline_cumulative_hazard_.plot(ax=axes[0,0], legend=False\n",
    "                ,title='Baseline cumulative hazard rate')\n",
    "cx.baseline_survival_.plot(ax=axes[0,1], legend=False\n",
    "                ,title='Baseline survival rate')"
   ]
  },
  {
   "cell_type": "code",
   "execution_count": 230,
   "metadata": {
    "collapsed": false
   },
   "outputs": [
    {
     "data": {
      "text/html": [
       "<div>\n",
       "<table border=\"1\" class=\"dataframe\">\n",
       "  <thead>\n",
       "    <tr style=\"text-align: right;\">\n",
       "      <th></th>\n",
       "      <th>baseline hazard</th>\n",
       "    </tr>\n",
       "    <tr>\n",
       "      <th>event_at</th>\n",
       "      <th></th>\n",
       "    </tr>\n",
       "  </thead>\n",
       "  <tbody>\n",
       "    <tr>\n",
       "      <th>0.0</th>\n",
       "      <td>1.0</td>\n",
       "    </tr>\n",
       "    <tr>\n",
       "      <th>4.0</th>\n",
       "      <td>1.0</td>\n",
       "    </tr>\n",
       "    <tr>\n",
       "      <th>5.0</th>\n",
       "      <td>1.0</td>\n",
       "    </tr>\n",
       "    <tr>\n",
       "      <th>9.0</th>\n",
       "      <td>1.0</td>\n",
       "    </tr>\n",
       "    <tr>\n",
       "      <th>27.0</th>\n",
       "      <td>1.0</td>\n",
       "    </tr>\n",
       "    <tr>\n",
       "      <th>48.0</th>\n",
       "      <td>1.0</td>\n",
       "    </tr>\n",
       "    <tr>\n",
       "      <th>58.0</th>\n",
       "      <td>1.0</td>\n",
       "    </tr>\n",
       "    <tr>\n",
       "      <th>72.0</th>\n",
       "      <td>1.0</td>\n",
       "    </tr>\n",
       "    <tr>\n",
       "      <th>82.0</th>\n",
       "      <td>1.0</td>\n",
       "    </tr>\n",
       "    <tr>\n",
       "      <th>91.0</th>\n",
       "      <td>1.0</td>\n",
       "    </tr>\n",
       "    <tr>\n",
       "      <th>94.0</th>\n",
       "      <td>1.0</td>\n",
       "    </tr>\n",
       "    <tr>\n",
       "      <th>101.0</th>\n",
       "      <td>1.0</td>\n",
       "    </tr>\n",
       "    <tr>\n",
       "      <th>102.0</th>\n",
       "      <td>1.0</td>\n",
       "    </tr>\n",
       "    <tr>\n",
       "      <th>103.0</th>\n",
       "      <td>1.0</td>\n",
       "    </tr>\n",
       "    <tr>\n",
       "      <th>111.0</th>\n",
       "      <td>1.0</td>\n",
       "    </tr>\n",
       "    <tr>\n",
       "      <th>115.0</th>\n",
       "      <td>1.0</td>\n",
       "    </tr>\n",
       "    <tr>\n",
       "      <th>118.0</th>\n",
       "      <td>1.0</td>\n",
       "    </tr>\n",
       "    <tr>\n",
       "      <th>126.0</th>\n",
       "      <td>1.0</td>\n",
       "    </tr>\n",
       "    <tr>\n",
       "      <th>143.0</th>\n",
       "      <td>1.0</td>\n",
       "    </tr>\n",
       "    <tr>\n",
       "      <th>166.0</th>\n",
       "      <td>1.0</td>\n",
       "    </tr>\n",
       "    <tr>\n",
       "      <th>176.0</th>\n",
       "      <td>1.0</td>\n",
       "    </tr>\n",
       "    <tr>\n",
       "      <th>178.0</th>\n",
       "      <td>1.0</td>\n",
       "    </tr>\n",
       "    <tr>\n",
       "      <th>183.0</th>\n",
       "      <td>1.0</td>\n",
       "    </tr>\n",
       "    <tr>\n",
       "      <th>187.0</th>\n",
       "      <td>1.0</td>\n",
       "    </tr>\n",
       "    <tr>\n",
       "      <th>191.0</th>\n",
       "      <td>1.0</td>\n",
       "    </tr>\n",
       "    <tr>\n",
       "      <th>199.0</th>\n",
       "      <td>1.0</td>\n",
       "    </tr>\n",
       "    <tr>\n",
       "      <th>201.0</th>\n",
       "      <td>1.0</td>\n",
       "    </tr>\n",
       "    <tr>\n",
       "      <th>210.0</th>\n",
       "      <td>1.0</td>\n",
       "    </tr>\n",
       "    <tr>\n",
       "      <th>216.0</th>\n",
       "      <td>1.0</td>\n",
       "    </tr>\n",
       "    <tr>\n",
       "      <th>246.0</th>\n",
       "      <td>1.0</td>\n",
       "    </tr>\n",
       "    <tr>\n",
       "      <th>...</th>\n",
       "      <td>...</td>\n",
       "    </tr>\n",
       "    <tr>\n",
       "      <th>16081349.0</th>\n",
       "      <td>1.0</td>\n",
       "    </tr>\n",
       "    <tr>\n",
       "      <th>16081786.0</th>\n",
       "      <td>1.0</td>\n",
       "    </tr>\n",
       "    <tr>\n",
       "      <th>16924601.0</th>\n",
       "      <td>1.0</td>\n",
       "    </tr>\n",
       "    <tr>\n",
       "      <th>17008015.0</th>\n",
       "      <td>1.0</td>\n",
       "    </tr>\n",
       "    <tr>\n",
       "      <th>17212277.0</th>\n",
       "      <td>1.0</td>\n",
       "    </tr>\n",
       "    <tr>\n",
       "      <th>17312492.0</th>\n",
       "      <td>1.0</td>\n",
       "    </tr>\n",
       "    <tr>\n",
       "      <th>17562463.0</th>\n",
       "      <td>1.0</td>\n",
       "    </tr>\n",
       "    <tr>\n",
       "      <th>17719093.0</th>\n",
       "      <td>1.0</td>\n",
       "    </tr>\n",
       "    <tr>\n",
       "      <th>17734952.0</th>\n",
       "      <td>1.0</td>\n",
       "    </tr>\n",
       "    <tr>\n",
       "      <th>17912097.0</th>\n",
       "      <td>1.0</td>\n",
       "    </tr>\n",
       "    <tr>\n",
       "      <th>17951703.0</th>\n",
       "      <td>1.0</td>\n",
       "    </tr>\n",
       "    <tr>\n",
       "      <th>18341181.0</th>\n",
       "      <td>1.0</td>\n",
       "    </tr>\n",
       "    <tr>\n",
       "      <th>18753176.0</th>\n",
       "      <td>1.0</td>\n",
       "    </tr>\n",
       "    <tr>\n",
       "      <th>18840200.0</th>\n",
       "      <td>1.0</td>\n",
       "    </tr>\n",
       "    <tr>\n",
       "      <th>19463760.0</th>\n",
       "      <td>1.0</td>\n",
       "    </tr>\n",
       "    <tr>\n",
       "      <th>19761590.0</th>\n",
       "      <td>1.0</td>\n",
       "    </tr>\n",
       "    <tr>\n",
       "      <th>19982382.0</th>\n",
       "      <td>1.0</td>\n",
       "    </tr>\n",
       "    <tr>\n",
       "      <th>20093483.0</th>\n",
       "      <td>1.0</td>\n",
       "    </tr>\n",
       "    <tr>\n",
       "      <th>20585298.0</th>\n",
       "      <td>1.0</td>\n",
       "    </tr>\n",
       "    <tr>\n",
       "      <th>21799191.0</th>\n",
       "      <td>1.0</td>\n",
       "    </tr>\n",
       "    <tr>\n",
       "      <th>21879118.0</th>\n",
       "      <td>1.0</td>\n",
       "    </tr>\n",
       "    <tr>\n",
       "      <th>21890058.0</th>\n",
       "      <td>1.0</td>\n",
       "    </tr>\n",
       "    <tr>\n",
       "      <th>21974855.0</th>\n",
       "      <td>1.0</td>\n",
       "    </tr>\n",
       "    <tr>\n",
       "      <th>22600435.0</th>\n",
       "      <td>1.0</td>\n",
       "    </tr>\n",
       "    <tr>\n",
       "      <th>23352479.0</th>\n",
       "      <td>1.0</td>\n",
       "    </tr>\n",
       "    <tr>\n",
       "      <th>24534044.0</th>\n",
       "      <td>1.0</td>\n",
       "    </tr>\n",
       "    <tr>\n",
       "      <th>25738593.0</th>\n",
       "      <td>1.0</td>\n",
       "    </tr>\n",
       "    <tr>\n",
       "      <th>26536625.0</th>\n",
       "      <td>1.0</td>\n",
       "    </tr>\n",
       "    <tr>\n",
       "      <th>27825213.0</th>\n",
       "      <td>1.0</td>\n",
       "    </tr>\n",
       "    <tr>\n",
       "      <th>28737019.0</th>\n",
       "      <td>1.0</td>\n",
       "    </tr>\n",
       "  </tbody>\n",
       "</table>\n",
       "<p>21578 rows × 1 columns</p>\n",
       "</div>"
      ],
      "text/plain": [
       "            baseline hazard\n",
       "event_at                   \n",
       "0.0                     1.0\n",
       "4.0                     1.0\n",
       "5.0                     1.0\n",
       "9.0                     1.0\n",
       "27.0                    1.0\n",
       "48.0                    1.0\n",
       "58.0                    1.0\n",
       "72.0                    1.0\n",
       "82.0                    1.0\n",
       "91.0                    1.0\n",
       "94.0                    1.0\n",
       "101.0                   1.0\n",
       "102.0                   1.0\n",
       "103.0                   1.0\n",
       "111.0                   1.0\n",
       "115.0                   1.0\n",
       "118.0                   1.0\n",
       "126.0                   1.0\n",
       "143.0                   1.0\n",
       "166.0                   1.0\n",
       "176.0                   1.0\n",
       "178.0                   1.0\n",
       "183.0                   1.0\n",
       "187.0                   1.0\n",
       "191.0                   1.0\n",
       "199.0                   1.0\n",
       "201.0                   1.0\n",
       "210.0                   1.0\n",
       "216.0                   1.0\n",
       "246.0                   1.0\n",
       "...                     ...\n",
       "16081349.0              1.0\n",
       "16081786.0              1.0\n",
       "16924601.0              1.0\n",
       "17008015.0              1.0\n",
       "17212277.0              1.0\n",
       "17312492.0              1.0\n",
       "17562463.0              1.0\n",
       "17719093.0              1.0\n",
       "17734952.0              1.0\n",
       "17912097.0              1.0\n",
       "17951703.0              1.0\n",
       "18341181.0              1.0\n",
       "18753176.0              1.0\n",
       "18840200.0              1.0\n",
       "19463760.0              1.0\n",
       "19761590.0              1.0\n",
       "19982382.0              1.0\n",
       "20093483.0              1.0\n",
       "20585298.0              1.0\n",
       "21799191.0              1.0\n",
       "21879118.0              1.0\n",
       "21890058.0              1.0\n",
       "21974855.0              1.0\n",
       "22600435.0              1.0\n",
       "23352479.0              1.0\n",
       "24534044.0              1.0\n",
       "25738593.0              1.0\n",
       "26536625.0              1.0\n",
       "27825213.0              1.0\n",
       "28737019.0              1.0\n",
       "\n",
       "[21578 rows x 1 columns]"
      ]
     },
     "execution_count": 230,
     "metadata": {},
     "output_type": "execute_result"
    }
   ],
   "source": [
    "cx.baseline_survival_"
   ]
  },
  {
   "cell_type": "code",
   "execution_count": 225,
   "metadata": {
    "collapsed": false
   },
   "outputs": [
    {
     "data": {
      "text/html": [
       "<div>\n",
       "<table border=\"1\" class=\"dataframe\">\n",
       "  <thead>\n",
       "    <tr style=\"text-align: right;\">\n",
       "      <th></th>\n",
       "      <th>coef</th>\n",
       "      <th>exp(coef)</th>\n",
       "      <th>se(coef)</th>\n",
       "      <th>z</th>\n",
       "      <th>p</th>\n",
       "      <th>lower 0.95</th>\n",
       "      <th>upper 0.95</th>\n",
       "    </tr>\n",
       "  </thead>\n",
       "  <tbody>\n",
       "    <tr>\n",
       "      <th>device[Android]</th>\n",
       "      <td>2.626337e+01</td>\n",
       "      <td>2.547044e+11</td>\n",
       "      <td>180494.106010</td>\n",
       "      <td>0.000146</td>\n",
       "      <td>9.998839e-01</td>\n",
       "      <td>-353813.464588</td>\n",
       "      <td>353865.991327</td>\n",
       "    </tr>\n",
       "    <tr>\n",
       "      <th>device[desktop]</th>\n",
       "      <td>2.598397e+01</td>\n",
       "      <td>1.926178e+11</td>\n",
       "      <td>180494.106010</td>\n",
       "      <td>0.000144</td>\n",
       "      <td>9.998851e-01</td>\n",
       "      <td>-353813.743984</td>\n",
       "      <td>353865.711931</td>\n",
       "    </tr>\n",
       "    <tr>\n",
       "      <th>device[iOS]</th>\n",
       "      <td>2.622792e+01</td>\n",
       "      <td>2.458338e+11</td>\n",
       "      <td>180494.106010</td>\n",
       "      <td>0.000145</td>\n",
       "      <td>9.998841e-01</td>\n",
       "      <td>-353813.500036</td>\n",
       "      <td>353865.955879</td>\n",
       "    </tr>\n",
       "    <tr>\n",
       "      <th>device[mobile]</th>\n",
       "      <td>2.591285e+01</td>\n",
       "      <td>1.793946e+11</td>\n",
       "      <td>180494.106010</td>\n",
       "      <td>0.000144</td>\n",
       "      <td>9.998855e-01</td>\n",
       "      <td>-353813.815104</td>\n",
       "      <td>353865.640811</td>\n",
       "    </tr>\n",
       "    <tr>\n",
       "      <th>numberdivisions</th>\n",
       "      <td>1.027878e-01</td>\n",
       "      <td>1.108256e+00</td>\n",
       "      <td>0.011145</td>\n",
       "      <td>9.222804</td>\n",
       "      <td>2.894296e-20</td>\n",
       "      <td>0.080939</td>\n",
       "      <td>0.124636</td>\n",
       "    </tr>\n",
       "    <tr>\n",
       "      <th>viewonly</th>\n",
       "      <td>8.536734e-04</td>\n",
       "      <td>1.000854e+00</td>\n",
       "      <td>0.000117</td>\n",
       "      <td>7.269286</td>\n",
       "      <td>3.613914e-13</td>\n",
       "      <td>0.000623</td>\n",
       "      <td>0.001084</td>\n",
       "    </tr>\n",
       "    <tr>\n",
       "      <th>sessionLength</th>\n",
       "      <td>-3.608873e-07</td>\n",
       "      <td>9.999996e-01</td>\n",
       "      <td>0.000015</td>\n",
       "      <td>-0.023429</td>\n",
       "      <td>9.813078e-01</td>\n",
       "      <td>-0.000031</td>\n",
       "      <td>0.000030</td>\n",
       "    </tr>\n",
       "  </tbody>\n",
       "</table>\n",
       "</div>"
      ],
      "text/plain": [
       "                         coef     exp(coef)       se(coef)         z  \\\n",
       "device[Android]  2.626337e+01  2.547044e+11  180494.106010  0.000146   \n",
       "device[desktop]  2.598397e+01  1.926178e+11  180494.106010  0.000144   \n",
       "device[iOS]      2.622792e+01  2.458338e+11  180494.106010  0.000145   \n",
       "device[mobile]   2.591285e+01  1.793946e+11  180494.106010  0.000144   \n",
       "numberdivisions  1.027878e-01  1.108256e+00       0.011145  9.222804   \n",
       "viewonly         8.536734e-04  1.000854e+00       0.000117  7.269286   \n",
       "sessionLength   -3.608873e-07  9.999996e-01       0.000015 -0.023429   \n",
       "\n",
       "                            p     lower 0.95     upper 0.95  \n",
       "device[Android]  9.998839e-01 -353813.464588  353865.991327  \n",
       "device[desktop]  9.998851e-01 -353813.743984  353865.711931  \n",
       "device[iOS]      9.998841e-01 -353813.500036  353865.955879  \n",
       "device[mobile]   9.998855e-01 -353813.815104  353865.640811  \n",
       "numberdivisions  2.894296e-20       0.080939       0.124636  \n",
       "viewonly         3.613914e-13       0.000623       0.001084  \n",
       "sessionLength    9.813078e-01      -0.000031       0.000030  "
      ]
     },
     "execution_count": 225,
     "metadata": {},
     "output_type": "execute_result"
    }
   ],
   "source": [
    "cx.summary"
   ]
  },
  {
   "cell_type": "markdown",
   "metadata": {},
   "source": [
    "# Next Steps"
   ]
  },
  {
   "cell_type": "markdown",
   "metadata": {},
   "source": [
    "Test predictions"
   ]
  },
  {
   "cell_type": "code",
   "execution_count": 237,
   "metadata": {
    "collapsed": false
   },
   "outputs": [
    {
     "data": {
      "text/html": [
       "<div>\n",
       "<table border=\"1\" class=\"dataframe\">\n",
       "  <thead>\n",
       "    <tr style=\"text-align: right;\">\n",
       "      <th></th>\n",
       "      <th>0</th>\n",
       "    </tr>\n",
       "  </thead>\n",
       "  <tbody>\n",
       "    <tr>\n",
       "      <th>3568</th>\n",
       "      <td>319685.181817</td>\n",
       "    </tr>\n",
       "    <tr>\n",
       "      <th>3569</th>\n",
       "      <td>321032.950354</td>\n",
       "    </tr>\n",
       "    <tr>\n",
       "      <th>3570</th>\n",
       "      <td>390902.486729</td>\n",
       "    </tr>\n",
       "  </tbody>\n",
       "</table>\n",
       "</div>"
      ],
      "text/plain": [
       "                  0\n",
       "3568  319685.181817\n",
       "3569  321032.950354\n",
       "3570  390902.486729"
      ]
     },
     "execution_count": 237,
     "metadata": {},
     "output_type": "execute_result"
    }
   ],
   "source": [
    "cx.predict_expectation(dft.head(3))"
   ]
  },
  {
   "cell_type": "code",
   "execution_count": 238,
   "metadata": {
    "collapsed": true
   },
   "outputs": [],
   "source": [
    "predictDF = cleanReturnTimeDF[(cleanReturnTimeDF['startUserTime'] >= makeunixtime(testPeriod[0])) & (cleanReturnTimeDF['startUserTime'] < makeunixtime(testPeriod[1]))]"
   ]
  },
  {
   "cell_type": "code",
   "execution_count": 242,
   "metadata": {
    "collapsed": true
   },
   "outputs": [],
   "source": [
    "predictDF = predictDF.reset_index(drop=True) # flatten"
   ]
  },
  {
   "cell_type": "code",
   "execution_count": 246,
   "metadata": {
    "collapsed": false
   },
   "outputs": [],
   "source": [
    "predDft = pt.dmatrix(modelspec, predictDF, return_type='dataframe')\n",
    "predDft = predDft.join(predictDF[['numberdivisions','viewonly','sessionLength','returnTime']])"
   ]
  },
  {
   "cell_type": "code",
   "execution_count": 251,
   "metadata": {
    "collapsed": false
   },
   "outputs": [
    {
     "data": {
      "text/html": [
       "<div>\n",
       "<table border=\"1\" class=\"dataframe\">\n",
       "  <thead>\n",
       "    <tr style=\"text-align: right;\">\n",
       "      <th></th>\n",
       "      <th>0</th>\n",
       "    </tr>\n",
       "  </thead>\n",
       "  <tbody>\n",
       "    <tr>\n",
       "      <th>0</th>\n",
       "      <td>600954.442153</td>\n",
       "    </tr>\n",
       "    <tr>\n",
       "      <th>1</th>\n",
       "      <td>590428.659175</td>\n",
       "    </tr>\n",
       "    <tr>\n",
       "      <th>2</th>\n",
       "      <td>778665.791786</td>\n",
       "    </tr>\n",
       "    <tr>\n",
       "      <th>3</th>\n",
       "      <td>773548.860775</td>\n",
       "    </tr>\n",
       "    <tr>\n",
       "      <th>4</th>\n",
       "      <td>936243.617671</td>\n",
       "    </tr>\n",
       "    <tr>\n",
       "      <th>5</th>\n",
       "      <td>926144.413823</td>\n",
       "    </tr>\n",
       "    <tr>\n",
       "      <th>6</th>\n",
       "      <td>320358.710972</td>\n",
       "    </tr>\n",
       "    <tr>\n",
       "      <th>7</th>\n",
       "      <td>411708.523481</td>\n",
       "    </tr>\n",
       "    <tr>\n",
       "      <th>8</th>\n",
       "      <td>375246.852606</td>\n",
       "    </tr>\n",
       "    <tr>\n",
       "      <th>9</th>\n",
       "      <td>406396.687091</td>\n",
       "    </tr>\n",
       "  </tbody>\n",
       "</table>\n",
       "</div>"
      ],
      "text/plain": [
       "               0\n",
       "0  600954.442153\n",
       "1  590428.659175\n",
       "2  778665.791786\n",
       "3  773548.860775\n",
       "4  936243.617671\n",
       "5  926144.413823\n",
       "6  320358.710972\n",
       "7  411708.523481\n",
       "8  375246.852606\n",
       "9  406396.687091"
      ]
     },
     "execution_count": 251,
     "metadata": {},
     "output_type": "execute_result"
    }
   ],
   "source": [
    "cx.predict_expectation(predDft.head(10))"
   ]
  },
  {
   "cell_type": "code",
   "execution_count": 252,
   "metadata": {
    "collapsed": false
   },
   "outputs": [
    {
     "data": {
      "text/plain": [
       "0      36488.0\n",
       "1     423584.0\n",
       "2      81759.0\n",
       "3    5756563.0\n",
       "4    3697830.0\n",
       "5    6251483.0\n",
       "6    1783032.0\n",
       "7     109509.0\n",
       "8     240680.0\n",
       "9     696046.0\n",
       "Name: returnTime, dtype: float64"
      ]
     },
     "execution_count": 252,
     "metadata": {},
     "output_type": "execute_result"
    }
   ],
   "source": [
    "predDft.head(10).returnTime"
   ]
  },
  {
   "cell_type": "code",
   "execution_count": 257,
   "metadata": {
    "collapsed": false
   },
   "outputs": [
    {
     "data": {
      "text/html": [
       "<div>\n",
       "<table border=\"1\" class=\"dataframe\">\n",
       "  <thead>\n",
       "    <tr style=\"text-align: right;\">\n",
       "      <th></th>\n",
       "      <th>0</th>\n",
       "      <th>1</th>\n",
       "      <th>2</th>\n",
       "      <th>3</th>\n",
       "      <th>4</th>\n",
       "      <th>5</th>\n",
       "      <th>6</th>\n",
       "      <th>7</th>\n",
       "      <th>8</th>\n",
       "      <th>9</th>\n",
       "    </tr>\n",
       "  </thead>\n",
       "  <tbody>\n",
       "    <tr>\n",
       "      <th>0</th>\n",
       "      <td>564466.442153</td>\n",
       "      <td>NaN</td>\n",
       "      <td>NaN</td>\n",
       "      <td>NaN</td>\n",
       "      <td>NaN</td>\n",
       "      <td>NaN</td>\n",
       "      <td>NaN</td>\n",
       "      <td>NaN</td>\n",
       "      <td>NaN</td>\n",
       "      <td>NaN</td>\n",
       "    </tr>\n",
       "    <tr>\n",
       "      <th>1</th>\n",
       "      <td>553940.659175</td>\n",
       "      <td>NaN</td>\n",
       "      <td>NaN</td>\n",
       "      <td>NaN</td>\n",
       "      <td>NaN</td>\n",
       "      <td>NaN</td>\n",
       "      <td>NaN</td>\n",
       "      <td>NaN</td>\n",
       "      <td>NaN</td>\n",
       "      <td>NaN</td>\n",
       "    </tr>\n",
       "    <tr>\n",
       "      <th>2</th>\n",
       "      <td>742177.791786</td>\n",
       "      <td>NaN</td>\n",
       "      <td>NaN</td>\n",
       "      <td>NaN</td>\n",
       "      <td>NaN</td>\n",
       "      <td>NaN</td>\n",
       "      <td>NaN</td>\n",
       "      <td>NaN</td>\n",
       "      <td>NaN</td>\n",
       "      <td>NaN</td>\n",
       "    </tr>\n",
       "    <tr>\n",
       "      <th>3</th>\n",
       "      <td>737060.860775</td>\n",
       "      <td>NaN</td>\n",
       "      <td>NaN</td>\n",
       "      <td>NaN</td>\n",
       "      <td>NaN</td>\n",
       "      <td>NaN</td>\n",
       "      <td>NaN</td>\n",
       "      <td>NaN</td>\n",
       "      <td>NaN</td>\n",
       "      <td>NaN</td>\n",
       "    </tr>\n",
       "    <tr>\n",
       "      <th>4</th>\n",
       "      <td>899755.617671</td>\n",
       "      <td>NaN</td>\n",
       "      <td>NaN</td>\n",
       "      <td>NaN</td>\n",
       "      <td>NaN</td>\n",
       "      <td>NaN</td>\n",
       "      <td>NaN</td>\n",
       "      <td>NaN</td>\n",
       "      <td>NaN</td>\n",
       "      <td>NaN</td>\n",
       "    </tr>\n",
       "    <tr>\n",
       "      <th>5</th>\n",
       "      <td>889656.413823</td>\n",
       "      <td>NaN</td>\n",
       "      <td>NaN</td>\n",
       "      <td>NaN</td>\n",
       "      <td>NaN</td>\n",
       "      <td>NaN</td>\n",
       "      <td>NaN</td>\n",
       "      <td>NaN</td>\n",
       "      <td>NaN</td>\n",
       "      <td>NaN</td>\n",
       "    </tr>\n",
       "    <tr>\n",
       "      <th>6</th>\n",
       "      <td>283870.710972</td>\n",
       "      <td>NaN</td>\n",
       "      <td>NaN</td>\n",
       "      <td>NaN</td>\n",
       "      <td>NaN</td>\n",
       "      <td>NaN</td>\n",
       "      <td>NaN</td>\n",
       "      <td>NaN</td>\n",
       "      <td>NaN</td>\n",
       "      <td>NaN</td>\n",
       "    </tr>\n",
       "    <tr>\n",
       "      <th>7</th>\n",
       "      <td>375220.523481</td>\n",
       "      <td>NaN</td>\n",
       "      <td>NaN</td>\n",
       "      <td>NaN</td>\n",
       "      <td>NaN</td>\n",
       "      <td>NaN</td>\n",
       "      <td>NaN</td>\n",
       "      <td>NaN</td>\n",
       "      <td>NaN</td>\n",
       "      <td>NaN</td>\n",
       "    </tr>\n",
       "    <tr>\n",
       "      <th>8</th>\n",
       "      <td>338758.852606</td>\n",
       "      <td>NaN</td>\n",
       "      <td>NaN</td>\n",
       "      <td>NaN</td>\n",
       "      <td>NaN</td>\n",
       "      <td>NaN</td>\n",
       "      <td>NaN</td>\n",
       "      <td>NaN</td>\n",
       "      <td>NaN</td>\n",
       "      <td>NaN</td>\n",
       "    </tr>\n",
       "    <tr>\n",
       "      <th>9</th>\n",
       "      <td>369908.687091</td>\n",
       "      <td>NaN</td>\n",
       "      <td>NaN</td>\n",
       "      <td>NaN</td>\n",
       "      <td>NaN</td>\n",
       "      <td>NaN</td>\n",
       "      <td>NaN</td>\n",
       "      <td>NaN</td>\n",
       "      <td>NaN</td>\n",
       "      <td>NaN</td>\n",
       "    </tr>\n",
       "  </tbody>\n",
       "</table>\n",
       "</div>"
      ],
      "text/plain": [
       "               0   1   2   3   4   5   6   7   8   9\n",
       "0  564466.442153 NaN NaN NaN NaN NaN NaN NaN NaN NaN\n",
       "1  553940.659175 NaN NaN NaN NaN NaN NaN NaN NaN NaN\n",
       "2  742177.791786 NaN NaN NaN NaN NaN NaN NaN NaN NaN\n",
       "3  737060.860775 NaN NaN NaN NaN NaN NaN NaN NaN NaN\n",
       "4  899755.617671 NaN NaN NaN NaN NaN NaN NaN NaN NaN\n",
       "5  889656.413823 NaN NaN NaN NaN NaN NaN NaN NaN NaN\n",
       "6  283870.710972 NaN NaN NaN NaN NaN NaN NaN NaN NaN\n",
       "7  375220.523481 NaN NaN NaN NaN NaN NaN NaN NaN NaN\n",
       "8  338758.852606 NaN NaN NaN NaN NaN NaN NaN NaN NaN\n",
       "9  369908.687091 NaN NaN NaN NaN NaN NaN NaN NaN NaN"
      ]
     },
     "execution_count": 257,
     "metadata": {},
     "output_type": "execute_result"
    }
   ],
   "source": [
    "cx.predict_expectation(predDft.head(10)).subtract(predDft.head(10).returnTime)"
   ]
  }
 ],
 "metadata": {
  "kernelspec": {
   "display_name": "Python 3",
   "language": "python",
   "name": "python3"
  },
  "language_info": {
   "codemirror_mode": {
    "name": "ipython",
    "version": 3
   },
   "file_extension": ".py",
   "mimetype": "text/x-python",
   "name": "python",
   "nbconvert_exporter": "python",
   "pygments_lexer": "ipython3",
   "version": "3.5.2"
  }
 },
 "nbformat": 4,
 "nbformat_minor": 2
}
