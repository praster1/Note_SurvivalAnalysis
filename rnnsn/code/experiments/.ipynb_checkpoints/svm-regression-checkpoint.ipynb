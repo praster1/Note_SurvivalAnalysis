{
 "cells": [
  {
   "cell_type": "code",
   "execution_count": 2,
   "metadata": {
    "collapsed": true
   },
   "outputs": [],
   "source": [
    "import sys\n",
    "sys.path.insert(0, '../utils')\n",
    "\n",
    "from dataPiping import *\n",
    "\n",
    "import numpy as np\n",
    "import pandas as pd\n",
    "import datetime\n",
    "\n",
    "from sklearn.svm import SVR"
   ]
  },
  {
   "cell_type": "code",
   "execution_count": 3,
   "metadata": {
    "collapsed": true
   },
   "outputs": [],
   "source": [
    "from sklearn.model_selection import RandomizedSearchCV\n",
    "from sklearn.metrics import mean_squared_error\n",
    "from math import exp, fabs, sqrt, log, pi\n",
    "import random"
   ]
  },
  {
   "cell_type": "code",
   "execution_count": 4,
   "metadata": {
    "collapsed": true
   },
   "outputs": [],
   "source": [
    "%matplotlib inline\n",
    "import matplotlib.pyplot as plt"
   ]
  },
  {
   "cell_type": "code",
   "execution_count": 5,
   "metadata": {
    "collapsed": true
   },
   "outputs": [],
   "source": [
    "X, y = getAggrSet()\n",
    "X_train, X_test, y_train, y_test = splitAndNormaliseAggr(X,y)\n",
    "y_train = y_train.values\n",
    "y_test = y_test.values"
   ]
  },
  {
   "cell_type": "markdown",
   "metadata": {},
   "source": [
    "# SVM Regression"
   ]
  },
  {
   "cell_type": "code",
   "execution_count": 6,
   "metadata": {
    "collapsed": true
   },
   "outputs": [],
   "source": [
    "model = SVR()"
   ]
  },
  {
   "cell_type": "code",
   "execution_count": 7,
   "metadata": {
    "collapsed": false
   },
   "outputs": [],
   "source": [
    "svr = RandomizedSearchCV(SVR(kernel='rbf', gamma=0.1), cv=5, verbose=2, n_jobs=4,\n",
    "                            param_distributions={'C': [1e0, 1e1, 1e2, 1e3],\n",
    "                            'gamma': np.logspace(-2, 2, 5)})"
   ]
  },
  {
   "cell_type": "code",
   "execution_count": 8,
   "metadata": {
    "collapsed": false,
    "scrolled": true
   },
   "outputs": [
    {
     "name": "stdout",
     "output_type": "stream",
     "text": [
      "Fitting 5 folds for each of 10 candidates, totalling 50 fits\n",
      "[CV] C=10.0, gamma=0.01 ..............................................\n",
      "[CV] C=10.0, gamma=0.01 ..............................................\n",
      "[CV] C=10.0, gamma=0.01 ..............................................\n",
      "[CV] C=10.0, gamma=0.01 ..............................................\n",
      "[CV] ............................... C=10.0, gamma=0.01, total= 2.9min\n",
      "[CV] C=10.0, gamma=0.01 ..............................................\n",
      "[CV] ............................... C=10.0, gamma=0.01, total= 3.0min\n",
      "[CV] C=10.0, gamma=100.0 .............................................\n",
      "[CV] ............................... C=10.0, gamma=0.01, total= 3.0min\n",
      "[CV] C=10.0, gamma=100.0 .............................................\n",
      "[CV] ............................... C=10.0, gamma=0.01, total= 4.4min\n",
      "[CV] C=10.0, gamma=100.0 .............................................\n",
      "[CV] .............................. C=10.0, gamma=100.0, total= 1.4min\n",
      "[CV] C=10.0, gamma=100.0 .............................................\n",
      "[CV] .............................. C=10.0, gamma=100.0, total= 1.4min\n",
      "[CV] C=10.0, gamma=100.0 .............................................\n",
      "[CV] ............................... C=10.0, gamma=0.01, total= 2.3min\n",
      "[CV] C=1000.0, gamma=1.0 .............................................\n",
      "[CV] .............................. C=10.0, gamma=100.0, total= 1.4min\n",
      "[CV] C=1000.0, gamma=1.0 .............................................\n",
      "[CV] .............................. C=10.0, gamma=100.0, total= 1.4min\n",
      "[CV] C=1000.0, gamma=1.0 .............................................\n",
      "[CV] .............................. C=10.0, gamma=100.0, total= 1.4min\n",
      "[CV] C=1000.0, gamma=1.0 .............................................\n",
      "[CV] .............................. C=1000.0, gamma=1.0, total= 1.8min\n",
      "[CV] C=1000.0, gamma=1.0 .............................................\n",
      "[CV] .............................. C=1000.0, gamma=1.0, total= 1.7min\n",
      "[CV] C=1.0, gamma=10.0 ...............................................\n",
      "[CV] .............................. C=1000.0, gamma=1.0, total= 1.7min\n",
      "[CV] C=1.0, gamma=10.0 ...............................................\n",
      "[CV] .............................. C=1000.0, gamma=1.0, total= 1.7min\n",
      "[CV] C=1.0, gamma=10.0 ...............................................\n",
      "[CV] .............................. C=1000.0, gamma=1.0, total= 1.8min\n",
      "[CV] C=1.0, gamma=10.0 ...............................................\n",
      "[CV] ................................ C=1.0, gamma=10.0, total= 1.9min\n",
      "[CV] C=1.0, gamma=10.0 ...............................................\n",
      "[CV] ................................ C=1.0, gamma=10.0, total= 1.9min\n",
      "[CV] C=10.0, gamma=10.0 ..............................................\n",
      "[CV] ................................ C=1.0, gamma=10.0, total= 1.9min\n",
      "[CV] C=10.0, gamma=10.0 ..............................................\n",
      "[CV] ................................ C=1.0, gamma=10.0, total= 1.9min\n",
      "[CV] C=10.0, gamma=10.0 ..............................................\n",
      "[CV] ................................ C=1.0, gamma=10.0, total= 1.9min\n",
      "[CV] C=10.0, gamma=10.0 ..............................................\n",
      "[CV] ............................... C=10.0, gamma=10.0, total= 1.9min\n",
      "[CV] C=10.0, gamma=10.0 ..............................................\n",
      "[CV] ............................... C=10.0, gamma=10.0, total= 2.0min\n",
      "[CV] C=100.0, gamma=100.0 ............................................\n",
      "[CV] ............................... C=10.0, gamma=10.0, total= 1.9min\n",
      "[CV] C=100.0, gamma=100.0 ............................................\n",
      "[CV] ............................... C=10.0, gamma=10.0, total= 1.9min\n",
      "[CV] C=100.0, gamma=100.0 ............................................\n",
      "[CV] ............................. C=100.0, gamma=100.0, total= 1.4min\n",
      "[CV] C=100.0, gamma=100.0 ............................................\n",
      "[CV] ............................... C=10.0, gamma=10.0, total= 1.9min\n",
      "[CV] C=100.0, gamma=100.0 ............................................\n",
      "[CV] ............................. C=100.0, gamma=100.0, total= 1.4min\n",
      "[CV] C=100.0, gamma=0.1 ..............................................\n",
      "[CV] ............................. C=100.0, gamma=100.0, total= 1.4min\n",
      "[CV] C=100.0, gamma=0.1 ..............................................\n",
      "[CV] ............................. C=100.0, gamma=100.0, total= 1.5min\n",
      "[CV] C=100.0, gamma=0.1 ..............................................\n",
      "[CV] ............................. C=100.0, gamma=100.0, total= 1.5min\n",
      "[CV] C=100.0, gamma=0.1 ..............................................\n",
      "[CV] ............................... C=100.0, gamma=0.1, total= 1.9min\n",
      "[CV] C=100.0, gamma=0.1 ..............................................\n",
      "[CV] ............................... C=100.0, gamma=0.1, total= 1.8min\n",
      "[CV] C=10.0, gamma=0.1 ...............................................\n",
      "[CV] ............................... C=100.0, gamma=0.1, total= 1.8min\n",
      "[CV] C=10.0, gamma=0.1 ...............................................\n"
     ]
    },
    {
     "name": "stderr",
     "output_type": "stream",
     "text": [
      "[Parallel(n_jobs=4)]: Done  33 tasks      | elapsed: 22.8min\n"
     ]
    },
    {
     "name": "stdout",
     "output_type": "stream",
     "text": [
      "[CV] ............................... C=100.0, gamma=0.1, total= 1.8min\n",
      "[CV] C=10.0, gamma=0.1 ...............................................\n",
      "[CV] ............................... C=100.0, gamma=0.1, total= 1.8min\n",
      "[CV] C=10.0, gamma=0.1 ...............................................\n",
      "[CV] ................................ C=10.0, gamma=0.1, total= 1.8min\n",
      "[CV] C=10.0, gamma=0.1 ...............................................\n",
      "[CV] ................................ C=10.0, gamma=0.1, total= 1.8min\n",
      "[CV] C=1.0, gamma=0.1 ................................................\n",
      "[CV] ................................ C=10.0, gamma=0.1, total= 1.8min\n",
      "[CV] C=1.0, gamma=0.1 ................................................\n",
      "[CV] ................................ C=10.0, gamma=0.1, total= 1.9min\n",
      "[CV] C=1.0, gamma=0.1 ................................................\n",
      "[CV] ................................ C=10.0, gamma=0.1, total= 1.9min\n",
      "[CV] C=1.0, gamma=0.1 ................................................\n",
      "[CV] ................................. C=1.0, gamma=0.1, total= 1.9min\n",
      "[CV] C=1.0, gamma=0.1 ................................................\n",
      "[CV] ................................. C=1.0, gamma=0.1, total= 1.9min\n",
      "[CV] C=100.0, gamma=1.0 ..............................................\n",
      "[CV] ................................. C=1.0, gamma=0.1, total= 1.8min\n",
      "[CV] C=100.0, gamma=1.0 ..............................................\n",
      "[CV] ................................. C=1.0, gamma=0.1, total= 1.7min\n",
      "[CV] C=100.0, gamma=1.0 ..............................................\n",
      "[CV] ................................. C=1.0, gamma=0.1, total= 1.8min\n",
      "[CV] C=100.0, gamma=1.0 ..............................................\n",
      "[CV] ............................... C=100.0, gamma=1.0, total= 1.8min\n",
      "[CV] C=100.0, gamma=1.0 ..............................................\n",
      "[CV] ............................... C=100.0, gamma=1.0, total= 1.8min\n",
      "[CV] ............................... C=100.0, gamma=1.0, total= 1.8min\n",
      "[CV] ............................... C=100.0, gamma=1.0, total= 1.7min\n",
      "[CV] ............................... C=100.0, gamma=1.0, total= 1.7min\n"
     ]
    },
    {
     "name": "stderr",
     "output_type": "stream",
     "text": [
      "[Parallel(n_jobs=4)]: Done  50 out of  50 | elapsed: 33.6min finished\n"
     ]
    },
    {
     "data": {
      "text/plain": [
       "RandomizedSearchCV(cv=5, error_score='raise',\n",
       "          estimator=SVR(C=1.0, cache_size=200, coef0=0.0, degree=3, epsilon=0.1, gamma=0.1,\n",
       "  kernel='rbf', max_iter=-1, shrinking=True, tol=0.001, verbose=False),\n",
       "          fit_params={}, iid=True, n_iter=10, n_jobs=4,\n",
       "          param_distributions={'C': [1.0, 10.0, 100.0, 1000.0], 'gamma': array([  1.00000e-02,   1.00000e-01,   1.00000e+00,   1.00000e+01,\n",
       "         1.00000e+02])},\n",
       "          pre_dispatch='2*n_jobs', random_state=None, refit=True,\n",
       "          return_train_score=True, scoring=None, verbose=2)"
      ]
     },
     "execution_count": 8,
     "metadata": {},
     "output_type": "execute_result"
    }
   ],
   "source": [
    "svr.fit(X_train, y_train)"
   ]
  },
  {
   "cell_type": "code",
   "execution_count": 11,
   "metadata": {
    "collapsed": false
   },
   "outputs": [
    {
     "data": {
      "text/plain": [
       "SVR(C=1000.0, cache_size=200, coef0=0.0, degree=3, epsilon=0.1, gamma=1.0,\n",
       "  kernel='rbf', max_iter=-1, shrinking=True, tol=0.001, verbose=False)"
      ]
     },
     "execution_count": 11,
     "metadata": {},
     "output_type": "execute_result"
    }
   ],
   "source": [
    "svr.best_estimator_"
   ]
  },
  {
   "cell_type": "code",
   "execution_count": 12,
   "metadata": {
    "collapsed": false
   },
   "outputs": [
    {
     "data": {
      "text/plain": [
       "{'C': 1000.0, 'gamma': 1.0}"
      ]
     },
     "execution_count": 12,
     "metadata": {},
     "output_type": "execute_result"
    }
   ],
   "source": [
    "svr.best_params_"
   ]
  },
  {
   "cell_type": "code",
   "execution_count": 13,
   "metadata": {
    "collapsed": false
   },
   "outputs": [
    {
     "data": {
      "text/plain": [
       "2"
      ]
     },
     "execution_count": 13,
     "metadata": {},
     "output_type": "execute_result"
    }
   ],
   "source": [
    "svr.best_index_"
   ]
  },
  {
   "cell_type": "code",
   "execution_count": 14,
   "metadata": {
    "collapsed": false
   },
   "outputs": [
    {
     "data": {
      "text/plain": [
       "-0.16860075242018799"
      ]
     },
     "execution_count": 14,
     "metadata": {},
     "output_type": "execute_result"
    }
   ],
   "source": [
    "svr.best_score_"
   ]
  },
  {
   "cell_type": "code",
   "execution_count": 15,
   "metadata": {
    "collapsed": false
   },
   "outputs": [
    {
     "data": {
      "text/plain": [
       "RandomizedSearchCV(cv=5, error_score='raise',\n",
       "          estimator=SVR(C=1.0, cache_size=200, coef0=0.0, degree=3, epsilon=0.1, gamma=0.1,\n",
       "  kernel='rbf', max_iter=-1, shrinking=True, tol=0.001, verbose=False),\n",
       "          fit_params={}, iid=True, n_iter=10, n_jobs=4,\n",
       "          param_distributions={'C': [1.0, 10.0, 100.0, 1000.0], 'gamma': array([  1.00000e-02,   1.00000e-01,   1.00000e+00,   1.00000e+01,\n",
       "         1.00000e+02])},\n",
       "          pre_dispatch='2*n_jobs', random_state=None, refit=True,\n",
       "          return_train_score=True, scoring=None, verbose=2)"
      ]
     },
     "execution_count": 15,
     "metadata": {},
     "output_type": "execute_result"
    }
   ],
   "source": [
    "svr"
   ]
  }
 ],
 "metadata": {
  "kernelspec": {
   "display_name": "Python 3",
   "language": "python",
   "name": "python3"
  },
  "language_info": {
   "codemirror_mode": {
    "name": "ipython",
    "version": 3
   },
   "file_extension": ".py",
   "mimetype": "text/x-python",
   "name": "python",
   "nbconvert_exporter": "python",
   "pygments_lexer": "ipython3",
   "version": "3.5.2"
  }
 },
 "nbformat": 4,
 "nbformat_minor": 2
}
